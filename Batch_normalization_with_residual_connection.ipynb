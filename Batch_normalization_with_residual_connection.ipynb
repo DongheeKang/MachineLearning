{
  "nbformat": 4,
  "nbformat_minor": 0,
  "metadata": {
    "colab": {
      "name": "Batch_normalization_with_residual_connection.ipynb",
      "provenance": [],
      "collapsed_sections": [],
      "authorship_tag": "ABX9TyMF/Gh2vOLx9puqwIH+VCqS",
      "include_colab_link": true
    },
    "kernelspec": {
      "name": "python3",
      "display_name": "Python 3"
    },
    "language_info": {
      "name": "python"
    },
    "accelerator": "GPU",
    "gpuClass": "standard",
    "widgets": {
      "application/vnd.jupyter.widget-state+json": {
        "684cc7f6a5ec4d298675832431ce8950": {
          "model_module": "@jupyter-widgets/controls",
          "model_name": "HBoxModel",
          "model_module_version": "1.5.0",
          "state": {
            "_dom_classes": [],
            "_model_module": "@jupyter-widgets/controls",
            "_model_module_version": "1.5.0",
            "_model_name": "HBoxModel",
            "_view_count": null,
            "_view_module": "@jupyter-widgets/controls",
            "_view_module_version": "1.5.0",
            "_view_name": "HBoxView",
            "box_style": "",
            "children": [
              "IPY_MODEL_afe34792a4ed4e1abc0a95fdb80a35af",
              "IPY_MODEL_d661f59b1e0948afb8f40945787d5b57",
              "IPY_MODEL_eee79f7103a24a44a737d52f327bcdc9"
            ],
            "layout": "IPY_MODEL_4f7aa52df5544faa81bad1026f5a47f8"
          }
        },
        "afe34792a4ed4e1abc0a95fdb80a35af": {
          "model_module": "@jupyter-widgets/controls",
          "model_name": "HTMLModel",
          "model_module_version": "1.5.0",
          "state": {
            "_dom_classes": [],
            "_model_module": "@jupyter-widgets/controls",
            "_model_module_version": "1.5.0",
            "_model_name": "HTMLModel",
            "_view_count": null,
            "_view_module": "@jupyter-widgets/controls",
            "_view_module_version": "1.5.0",
            "_view_name": "HTMLView",
            "description": "",
            "description_tooltip": null,
            "layout": "IPY_MODEL_ff423b9f6946422893cee411f566aa5d",
            "placeholder": "​",
            "style": "IPY_MODEL_aad2715c5b9a4cda955adb3deda548e8",
            "value": "100%"
          }
        },
        "d661f59b1e0948afb8f40945787d5b57": {
          "model_module": "@jupyter-widgets/controls",
          "model_name": "FloatProgressModel",
          "model_module_version": "1.5.0",
          "state": {
            "_dom_classes": [],
            "_model_module": "@jupyter-widgets/controls",
            "_model_module_version": "1.5.0",
            "_model_name": "FloatProgressModel",
            "_view_count": null,
            "_view_module": "@jupyter-widgets/controls",
            "_view_module_version": "1.5.0",
            "_view_name": "ProgressView",
            "bar_style": "success",
            "description": "",
            "description_tooltip": null,
            "layout": "IPY_MODEL_d6fc7c1cb690437a9dde2c3edde3dc87",
            "max": 170498071,
            "min": 0,
            "orientation": "horizontal",
            "style": "IPY_MODEL_2025982f14c543bf8571cdd83dc4c66c",
            "value": 170498071
          }
        },
        "eee79f7103a24a44a737d52f327bcdc9": {
          "model_module": "@jupyter-widgets/controls",
          "model_name": "HTMLModel",
          "model_module_version": "1.5.0",
          "state": {
            "_dom_classes": [],
            "_model_module": "@jupyter-widgets/controls",
            "_model_module_version": "1.5.0",
            "_model_name": "HTMLModel",
            "_view_count": null,
            "_view_module": "@jupyter-widgets/controls",
            "_view_module_version": "1.5.0",
            "_view_name": "HTMLView",
            "description": "",
            "description_tooltip": null,
            "layout": "IPY_MODEL_8a7b0bcbbe0c47b6a2e4221b09ff7d49",
            "placeholder": "​",
            "style": "IPY_MODEL_cfc6b4363ed0417ba0251b2d6ca985f6",
            "value": " 170498071/170498071 [00:13&lt;00:00, 14513841.73it/s]"
          }
        },
        "4f7aa52df5544faa81bad1026f5a47f8": {
          "model_module": "@jupyter-widgets/base",
          "model_name": "LayoutModel",
          "model_module_version": "1.2.0",
          "state": {
            "_model_module": "@jupyter-widgets/base",
            "_model_module_version": "1.2.0",
            "_model_name": "LayoutModel",
            "_view_count": null,
            "_view_module": "@jupyter-widgets/base",
            "_view_module_version": "1.2.0",
            "_view_name": "LayoutView",
            "align_content": null,
            "align_items": null,
            "align_self": null,
            "border": null,
            "bottom": null,
            "display": null,
            "flex": null,
            "flex_flow": null,
            "grid_area": null,
            "grid_auto_columns": null,
            "grid_auto_flow": null,
            "grid_auto_rows": null,
            "grid_column": null,
            "grid_gap": null,
            "grid_row": null,
            "grid_template_areas": null,
            "grid_template_columns": null,
            "grid_template_rows": null,
            "height": null,
            "justify_content": null,
            "justify_items": null,
            "left": null,
            "margin": null,
            "max_height": null,
            "max_width": null,
            "min_height": null,
            "min_width": null,
            "object_fit": null,
            "object_position": null,
            "order": null,
            "overflow": null,
            "overflow_x": null,
            "overflow_y": null,
            "padding": null,
            "right": null,
            "top": null,
            "visibility": null,
            "width": null
          }
        },
        "ff423b9f6946422893cee411f566aa5d": {
          "model_module": "@jupyter-widgets/base",
          "model_name": "LayoutModel",
          "model_module_version": "1.2.0",
          "state": {
            "_model_module": "@jupyter-widgets/base",
            "_model_module_version": "1.2.0",
            "_model_name": "LayoutModel",
            "_view_count": null,
            "_view_module": "@jupyter-widgets/base",
            "_view_module_version": "1.2.0",
            "_view_name": "LayoutView",
            "align_content": null,
            "align_items": null,
            "align_self": null,
            "border": null,
            "bottom": null,
            "display": null,
            "flex": null,
            "flex_flow": null,
            "grid_area": null,
            "grid_auto_columns": null,
            "grid_auto_flow": null,
            "grid_auto_rows": null,
            "grid_column": null,
            "grid_gap": null,
            "grid_row": null,
            "grid_template_areas": null,
            "grid_template_columns": null,
            "grid_template_rows": null,
            "height": null,
            "justify_content": null,
            "justify_items": null,
            "left": null,
            "margin": null,
            "max_height": null,
            "max_width": null,
            "min_height": null,
            "min_width": null,
            "object_fit": null,
            "object_position": null,
            "order": null,
            "overflow": null,
            "overflow_x": null,
            "overflow_y": null,
            "padding": null,
            "right": null,
            "top": null,
            "visibility": null,
            "width": null
          }
        },
        "aad2715c5b9a4cda955adb3deda548e8": {
          "model_module": "@jupyter-widgets/controls",
          "model_name": "DescriptionStyleModel",
          "model_module_version": "1.5.0",
          "state": {
            "_model_module": "@jupyter-widgets/controls",
            "_model_module_version": "1.5.0",
            "_model_name": "DescriptionStyleModel",
            "_view_count": null,
            "_view_module": "@jupyter-widgets/base",
            "_view_module_version": "1.2.0",
            "_view_name": "StyleView",
            "description_width": ""
          }
        },
        "d6fc7c1cb690437a9dde2c3edde3dc87": {
          "model_module": "@jupyter-widgets/base",
          "model_name": "LayoutModel",
          "model_module_version": "1.2.0",
          "state": {
            "_model_module": "@jupyter-widgets/base",
            "_model_module_version": "1.2.0",
            "_model_name": "LayoutModel",
            "_view_count": null,
            "_view_module": "@jupyter-widgets/base",
            "_view_module_version": "1.2.0",
            "_view_name": "LayoutView",
            "align_content": null,
            "align_items": null,
            "align_self": null,
            "border": null,
            "bottom": null,
            "display": null,
            "flex": null,
            "flex_flow": null,
            "grid_area": null,
            "grid_auto_columns": null,
            "grid_auto_flow": null,
            "grid_auto_rows": null,
            "grid_column": null,
            "grid_gap": null,
            "grid_row": null,
            "grid_template_areas": null,
            "grid_template_columns": null,
            "grid_template_rows": null,
            "height": null,
            "justify_content": null,
            "justify_items": null,
            "left": null,
            "margin": null,
            "max_height": null,
            "max_width": null,
            "min_height": null,
            "min_width": null,
            "object_fit": null,
            "object_position": null,
            "order": null,
            "overflow": null,
            "overflow_x": null,
            "overflow_y": null,
            "padding": null,
            "right": null,
            "top": null,
            "visibility": null,
            "width": null
          }
        },
        "2025982f14c543bf8571cdd83dc4c66c": {
          "model_module": "@jupyter-widgets/controls",
          "model_name": "ProgressStyleModel",
          "model_module_version": "1.5.0",
          "state": {
            "_model_module": "@jupyter-widgets/controls",
            "_model_module_version": "1.5.0",
            "_model_name": "ProgressStyleModel",
            "_view_count": null,
            "_view_module": "@jupyter-widgets/base",
            "_view_module_version": "1.2.0",
            "_view_name": "StyleView",
            "bar_color": null,
            "description_width": ""
          }
        },
        "8a7b0bcbbe0c47b6a2e4221b09ff7d49": {
          "model_module": "@jupyter-widgets/base",
          "model_name": "LayoutModel",
          "model_module_version": "1.2.0",
          "state": {
            "_model_module": "@jupyter-widgets/base",
            "_model_module_version": "1.2.0",
            "_model_name": "LayoutModel",
            "_view_count": null,
            "_view_module": "@jupyter-widgets/base",
            "_view_module_version": "1.2.0",
            "_view_name": "LayoutView",
            "align_content": null,
            "align_items": null,
            "align_self": null,
            "border": null,
            "bottom": null,
            "display": null,
            "flex": null,
            "flex_flow": null,
            "grid_area": null,
            "grid_auto_columns": null,
            "grid_auto_flow": null,
            "grid_auto_rows": null,
            "grid_column": null,
            "grid_gap": null,
            "grid_row": null,
            "grid_template_areas": null,
            "grid_template_columns": null,
            "grid_template_rows": null,
            "height": null,
            "justify_content": null,
            "justify_items": null,
            "left": null,
            "margin": null,
            "max_height": null,
            "max_width": null,
            "min_height": null,
            "min_width": null,
            "object_fit": null,
            "object_position": null,
            "order": null,
            "overflow": null,
            "overflow_x": null,
            "overflow_y": null,
            "padding": null,
            "right": null,
            "top": null,
            "visibility": null,
            "width": null
          }
        },
        "cfc6b4363ed0417ba0251b2d6ca985f6": {
          "model_module": "@jupyter-widgets/controls",
          "model_name": "DescriptionStyleModel",
          "model_module_version": "1.5.0",
          "state": {
            "_model_module": "@jupyter-widgets/controls",
            "_model_module_version": "1.5.0",
            "_model_name": "DescriptionStyleModel",
            "_view_count": null,
            "_view_module": "@jupyter-widgets/base",
            "_view_module_version": "1.2.0",
            "_view_name": "StyleView",
            "description_width": ""
          }
        }
      }
    }
  },
  "cells": [
    {
      "cell_type": "markdown",
      "metadata": {
        "id": "view-in-github",
        "colab_type": "text"
      },
      "source": [
        "<a href=\"https://colab.research.google.com/github/DongheeKang/MachineLearning/blob/master/Batch_normalization_with_residual_connection.ipynb\" target=\"_parent\"><img src=\"https://colab.research.google.com/assets/colab-badge.svg\" alt=\"Open In Colab\"/></a>"
      ]
    },
    {
      "cell_type": "markdown",
      "source": [
        "# Batch normalization evalutaion with Residual connection \n",
        "\n",
        "### Practice for batch normalization \n",
        "### compare the result with bH and without BH"
      ],
      "metadata": {
        "id": "nEntD9wTC_X2"
      }
    },
    {
      "cell_type": "markdown",
      "source": [
        "!nvidia-smi"
      ],
      "metadata": {
        "id": "fJXjgd7TPnAG"
      }
    },
    {
      "cell_type": "code",
      "source": [
        "import torch\n",
        "import torch.nn as nn\n",
        "import torch.nn.functional as F\n",
        "import torch.backends.cudnn as cudnn\n",
        "import torch.optim as optim\n",
        "import os\n",
        "import matplotlib.pyplot as plt"
      ],
      "metadata": {
        "id": "NGCqqLjJDQku"
      },
      "execution_count": null,
      "outputs": []
    },
    {
      "cell_type": "code",
      "source": [
        "# ResNet18 Basic Block define\n",
        "class BasicBlock(nn.Module):\n",
        "    def __init__(self, in_planes, planes, with_BN, stride=1):\n",
        "        super(BasicBlock, self).__init__()\n",
        "        self.with_BN = with_BN\n",
        "\n",
        "        # 3x3 filter using stride to reduce size \n",
        "        self.conv1 = nn.Conv2d(in_planes, planes, kernel_size=3, stride=stride, padding=1, bias=False)\n",
        "        if with_BN: # use batch normalization\n",
        "            self.bn1 = nn.BatchNorm2d(planes) \n",
        "\n",
        "        # 3x3 filter do padding with same length and width each 1 \n",
        "        self.conv2 = nn.Conv2d(planes, planes, kernel_size=3, stride=1, padding=1, bias=False)\n",
        "        if with_BN: # batch normalization\n",
        "            self.bn2 = nn.BatchNorm2d(planes)\n",
        "\n",
        "        self.shortcut = nn.Sequential() # identity mapping\n",
        "        if stride != 1: \n",
        "            modules = [nn.Conv2d(in_planes, planes, kernel_size=1, stride=stride, bias=False)]\n",
        "            if with_BN:\n",
        "                modules.append(nn.BatchNorm2d(planes))\n",
        "            self.shortcut = nn.Sequential(*modules)\n",
        "\n",
        "    def forward(self, x):\n",
        "        if self.with_BN: # batch normalization\n",
        "            out = F.relu(self.bn1(self.conv1(x)))\n",
        "            out = self.bn2(self.conv2(out))\n",
        "        else:\n",
        "            out = F.relu(self.conv1(x))\n",
        "            out = self.conv2(out)\n",
        "        out += self.shortcut(x) # skip connection\n",
        "        out = F.relu(out)\n",
        "        return out\n",
        "\n",
        "\n",
        "# ResNet basic block and class\n",
        "class ResNet(nn.Module):\n",
        "    def __init__(self, block, num_blocks, with_BN, num_classes=10):\n",
        "        super(ResNet, self).__init__()\n",
        "        self.in_planes = 64\n",
        "        self.with_BN = with_BN\n",
        "\n",
        "        # 64 filter with 3x3 kernel\n",
        "        self.conv1 = nn.Conv2d(3, 64, kernel_size=3, stride=1, padding=1, bias=False)\n",
        "        if with_BN: # batch normalization\n",
        "            self.bn1 = nn.BatchNorm2d(64)\n",
        "        # up scaling layer     \n",
        "        self.layer1 = self._make_layer(block, 64, with_BN, num_blocks[0], stride=1)\n",
        "        self.layer2 = self._make_layer(block, 128, with_BN, num_blocks[1], stride=2)\n",
        "        self.layer3 = self._make_layer(block, 256, with_BN, num_blocks[2], stride=2)\n",
        "        self.layer4 = self._make_layer(block, 512, with_BN, num_blocks[3], stride=2)\n",
        "        self.linear = nn.Linear(512, num_classes)\n",
        "\n",
        "    def _make_layer(self, block, planes, with_BN, num_blocks, stride):\n",
        "        strides = [stride] + [1] * (num_blocks - 1)\n",
        "        layers = []\n",
        "        for stride in strides:\n",
        "            layers.append(block(self.in_planes, planes, with_BN, stride))\n",
        "            self.in_planes = planes # change the number of channel for next layer\n",
        "        return nn.Sequential(*layers)\n",
        "\n",
        "    def forward(self, x):\n",
        "        if self.with_BN: # batch normalization\n",
        "            out = F.relu(self.bn1(self.conv1(x)))\n",
        "        else:\n",
        "            out = F.relu(self.conv1(x))\n",
        "        out = self.layer1(out)\n",
        "        out = self.layer2(out)\n",
        "        out = self.layer3(out)\n",
        "        out = self.layer4(out)\n",
        "        out = F.avg_pool2d(out, 4)\n",
        "        out = out.view(out.size(0), -1)\n",
        "        out = self.linear(out)\n",
        "        return out\n",
        "\n",
        "\n",
        "# ResNet18 via basic -> 18\n",
        "def ResNet18(with_BN):\n",
        "    return ResNet(BasicBlock, [2, 2, 2, 2], with_BN)"
      ],
      "metadata": {
        "id": "i-p2C72MHZEd"
      },
      "execution_count": null,
      "outputs": []
    },
    {
      "cell_type": "markdown",
      "source": [
        "### Load dataset \n",
        "\n",
        "*   CIFAR-10 dataset\n",
        "\n"
      ],
      "metadata": {
        "id": "koD9wOxvDYP-"
      }
    },
    {
      "cell_type": "code",
      "source": [
        "import torchvision\n",
        "import torchvision.transforms as transforms\n",
        "\n",
        "transform_train = transforms.Compose([\n",
        "    transforms.RandomCrop(32, padding=4),\n",
        "    transforms.RandomHorizontalFlip(),\n",
        "    transforms.ToTensor(),\n",
        "])\n",
        "\n",
        "transform_test = transforms.Compose([\n",
        "    transforms.ToTensor(),\n",
        "])\n",
        "\n",
        "train_dataset = torchvision.datasets.CIFAR10(root='./data', train=True, download=True, transform=transform_train)\n",
        "test_dataset = torchvision.datasets.CIFAR10(root='./data', train=False, download=True, transform=transform_test)\n",
        "\n",
        "train_loader = torch.utils.data.DataLoader(train_dataset, batch_size=128, shuffle=True, num_workers=4)\n",
        "test_loader = torch.utils.data.DataLoader(test_dataset, batch_size=100, shuffle=False, num_workers=4)\n"
      ],
      "metadata": {
        "colab": {
          "base_uri": "https://localhost:8080/",
          "height": 161,
          "referenced_widgets": [
            "684cc7f6a5ec4d298675832431ce8950",
            "afe34792a4ed4e1abc0a95fdb80a35af",
            "d661f59b1e0948afb8f40945787d5b57",
            "eee79f7103a24a44a737d52f327bcdc9",
            "4f7aa52df5544faa81bad1026f5a47f8",
            "ff423b9f6946422893cee411f566aa5d",
            "aad2715c5b9a4cda955adb3deda548e8",
            "d6fc7c1cb690437a9dde2c3edde3dc87",
            "2025982f14c543bf8571cdd83dc4c66c",
            "8a7b0bcbbe0c47b6a2e4221b09ff7d49",
            "cfc6b4363ed0417ba0251b2d6ca985f6"
          ]
        },
        "id": "c-aaPAiSF_x8",
        "outputId": "b524117b-57fa-4f9b-e868-591f340b9590"
      },
      "execution_count": null,
      "outputs": [
        {
          "output_type": "stream",
          "name": "stdout",
          "text": [
            "Downloading https://www.cs.toronto.edu/~kriz/cifar-10-python.tar.gz to ./data/cifar-10-python.tar.gz\n"
          ]
        },
        {
          "output_type": "display_data",
          "data": {
            "text/plain": [
              "  0%|          | 0/170498071 [00:00<?, ?it/s]"
            ],
            "application/vnd.jupyter.widget-view+json": {
              "version_major": 2,
              "version_minor": 0,
              "model_id": "684cc7f6a5ec4d298675832431ce8950"
            }
          },
          "metadata": {}
        },
        {
          "output_type": "stream",
          "name": "stdout",
          "text": [
            "Extracting ./data/cifar-10-python.tar.gz to ./data\n",
            "Files already downloaded and verified\n"
          ]
        },
        {
          "output_type": "stream",
          "name": "stderr",
          "text": [
            "/usr/local/lib/python3.7/dist-packages/torch/utils/data/dataloader.py:560: UserWarning: This DataLoader will create 4 worker processes in total. Our suggested max number of worker in current system is 2, which is smaller than what this DataLoader is going to create. Please be aware that excessive worker creation might get DataLoader running slow or even freeze, lower the worker number to avoid potential slowness/freeze if necessary.\n",
            "  cpuset_checked))\n"
          ]
        }
      ]
    },
    {
      "cell_type": "markdown",
      "source": [
        "### Training and testing for classification problem"
      ],
      "metadata": {
        "id": "2K4SdAUwI55G"
      }
    },
    {
      "cell_type": "code",
      "source": [
        "# cross entropy loss function\n",
        "criterion = nn.CrossEntropyLoss() \n",
        "\n",
        "\n",
        "def train(net, optimizer, epoch, step):\n",
        "    net.train()\n",
        "    correct = 0 # target image number\n",
        "    total = 0 # total image number\n",
        "    steps = [] # step = epoch\n",
        "    losses = [] # loss in each epoch\n",
        "\n",
        "    for _, (inputs, targets) in enumerate(train_loader):\n",
        "        inputs, targets = inputs.cuda(), targets.cuda()\n",
        "\n",
        "        optimizer.zero_grad()\n",
        "        outputs = net(inputs)\n",
        "        loss = criterion(outputs, targets)\n",
        "        loss.backward()\n",
        "        optimizer.step()\n",
        "        \n",
        "        _, predicted = outputs.max(1)\n",
        "        correct += predicted.eq(targets).sum().item()\n",
        "        total += targets.size(0)\n",
        "\n",
        "        steps.append(step)\n",
        "        losses.append(loss.item())\n",
        "        step += 1\n",
        "\n",
        "    return correct / total, steps, losses\n",
        "\n",
        "\n",
        "def test(net, optimizer, epoch):\n",
        "    net.eval()\n",
        "    correct = 0\n",
        "    total = 0 \n",
        "    loss = 0 \n",
        "\n",
        "    for batch_idx, (inputs, targets) in enumerate(test_loader):\n",
        "        inputs, targets = inputs.cuda(), targets.cuda()\n",
        "\n",
        "        outputs = net(inputs)\n",
        "        loss += criterion(outputs, targets).item()\n",
        "\n",
        "        _, predicted = outputs.max(1)\n",
        "        correct += predicted.eq(targets).sum().item()\n",
        "        total += targets.size(0)\n",
        "\n",
        "    return correct / total, loss"
      ],
      "metadata": {
        "id": "vJo7ZukJGMF6"
      },
      "execution_count": null,
      "outputs": []
    },
    {
      "cell_type": "markdown",
      "source": [
        "### Training without *BN*"
      ],
      "metadata": {
        "id": "GmDsfQHvJVS2"
      }
    },
    {
      "cell_type": "markdown",
      "source": [
        ""
      ],
      "metadata": {
        "id": "20PkGKJdJ5hE"
      }
    },
    {
      "cell_type": "code",
      "source": [
        "print('Initialize model parameters')\n",
        "net = ResNet18(with_BN=False).cuda()\n",
        "learning_rate = 0.01\n",
        "optimizer = optim.SGD(net.parameters(), lr=learning_rate, momentum=0.9, weight_decay=0.0002)\n",
        "\n",
        "total_params = sum(p.numel() for p in net.parameters() if p.requires_grad)\n",
        "print('Total number of hyper-parameters:', total_params)"
      ],
      "metadata": {
        "colab": {
          "base_uri": "https://localhost:8080/"
        },
        "id": "5NSMhtG1JcNN",
        "outputId": "909d3690-ec22-4335-aa49-1f18dc83e6c1"
      },
      "execution_count": null,
      "outputs": [
        {
          "output_type": "stream",
          "name": "stdout",
          "text": [
            "Initialize model parameters\n",
            "Total number of hyper-parameters: 11164362\n"
          ]
        }
      ]
    },
    {
      "cell_type": "code",
      "source": [
        "without_BN_train_accuracies = []\n",
        "without_BN_steps = []\n",
        "without_BN_train_losses = []\n",
        "without_BN_test_accuracies = []\n",
        "without_BN_test_losses = []\n",
        "\n",
        "epochs = 20\n",
        "\n",
        "for epoch in range(0, epochs):\n",
        "    print(f'[ Epoch: {epoch}/{epochs} ]')\n",
        "    train_accuracy, steps, train_losses = train(net, optimizer, epoch, len(without_BN_steps))\n",
        "    without_BN_train_accuracies.append(train_accuracy)\n",
        "    without_BN_steps.extend(steps)\n",
        "    without_BN_train_losses.extend(train_losses)\n",
        "    print(f'Train accuracy = {train_accuracy * 100:.2f} / Train loss = {sum(train_losses)}')\n",
        "\n",
        "    test_accuracy, test_loss = test(net, optimizer, epoch)\n",
        "    without_BN_test_accuracies.append(test_accuracy)\n",
        "    without_BN_test_losses.append(test_loss)\n",
        "    print(f'Test accuracy = {test_accuracy * 100:.2f} / Test loss = {test_loss}')"
      ],
      "metadata": {
        "colab": {
          "base_uri": "https://localhost:8080/"
        },
        "id": "m6kFXKFKJo85",
        "outputId": "25a10e8f-af34-4076-bcaa-779fae431656"
      },
      "execution_count": null,
      "outputs": [
        {
          "output_type": "stream",
          "name": "stdout",
          "text": [
            "[ Epoch: 0/20 ]\n"
          ]
        },
        {
          "output_type": "stream",
          "name": "stderr",
          "text": [
            "/usr/local/lib/python3.7/dist-packages/torch/utils/data/dataloader.py:560: UserWarning: This DataLoader will create 4 worker processes in total. Our suggested max number of worker in current system is 2, which is smaller than what this DataLoader is going to create. Please be aware that excessive worker creation might get DataLoader running slow or even freeze, lower the worker number to avoid potential slowness/freeze if necessary.\n",
            "  cpuset_checked))\n"
          ]
        },
        {
          "output_type": "stream",
          "name": "stdout",
          "text": [
            "Train accuracy = 15.99 / Train loss = 858.3617113828659\n",
            "Test accuracy = 23.69 / Test loss = 202.93071246147156\n",
            "[ Epoch: 1/20 ]\n",
            "Train accuracy = 27.25 / Train loss = 765.973347067833\n",
            "Test accuracy = 34.72 / Test loss = 180.105482339859\n",
            "[ Epoch: 2/20 ]\n",
            "Train accuracy = 34.62 / Train loss = 696.4544105529785\n",
            "Test accuracy = 39.90 / Test loss = 164.7159913778305\n",
            "[ Epoch: 3/20 ]\n",
            "Train accuracy = 39.91 / Train loss = 640.191107749939\n",
            "Test accuracy = 42.57 / Test loss = 156.01553905010223\n",
            "[ Epoch: 4/20 ]\n",
            "Train accuracy = 43.94 / Train loss = 598.8853282928467\n",
            "Test accuracy = 46.95 / Test loss = 147.15593361854553\n",
            "[ Epoch: 5/20 ]\n",
            "Train accuracy = 47.56 / Train loss = 566.0737364292145\n",
            "Test accuracy = 47.44 / Test loss = 145.47958099842072\n",
            "[ Epoch: 6/20 ]\n",
            "Train accuracy = 49.89 / Train loss = 540.2169841527939\n",
            "Test accuracy = 53.13 / Test loss = 129.42708897590637\n",
            "[ Epoch: 7/20 ]\n",
            "Train accuracy = 53.60 / Train loss = 505.4877862930298\n",
            "Test accuracy = 54.22 / Test loss = 130.40078222751617\n",
            "[ Epoch: 8/20 ]\n",
            "Train accuracy = 56.28 / Train loss = 480.7427488565445\n",
            "Test accuracy = 59.54 / Test loss = 114.70695662498474\n",
            "[ Epoch: 9/20 ]\n",
            "Train accuracy = 59.37 / Train loss = 449.20018994808197\n",
            "Test accuracy = 61.45 / Test loss = 110.56900328397751\n",
            "[ Epoch: 10/20 ]\n",
            "Train accuracy = 61.84 / Train loss = 422.08465123176575\n",
            "Test accuracy = 64.41 / Test loss = 102.29937332868576\n",
            "[ Epoch: 11/20 ]\n",
            "Train accuracy = 64.14 / Train loss = 400.6154869198799\n",
            "Test accuracy = 66.13 / Test loss = 96.1359491944313\n",
            "[ Epoch: 12/20 ]\n",
            "Train accuracy = 66.91 / Train loss = 370.2030655145645\n",
            "Test accuracy = 67.51 / Test loss = 93.59394466876984\n",
            "[ Epoch: 13/20 ]\n",
            "Train accuracy = 68.77 / Train loss = 350.1872504353523\n",
            "Test accuracy = 69.60 / Test loss = 88.0855941772461\n",
            "[ Epoch: 14/20 ]\n",
            "Train accuracy = 71.17 / Train loss = 324.64532428979874\n",
            "Test accuracy = 71.22 / Test loss = 83.24969267845154\n",
            "[ Epoch: 15/20 ]\n",
            "Train accuracy = 72.85 / Train loss = 305.7755498290062\n",
            "Test accuracy = 74.25 / Test loss = 74.56536495685577\n",
            "[ Epoch: 16/20 ]\n",
            "Train accuracy = 74.32 / Train loss = 289.64281010627747\n",
            "Test accuracy = 74.77 / Test loss = 74.95391458272934\n",
            "[ Epoch: 17/20 ]\n",
            "Train accuracy = 75.44 / Train loss = 277.50817385315895\n",
            "Test accuracy = 76.12 / Test loss = 70.17997246980667\n",
            "[ Epoch: 18/20 ]\n",
            "Train accuracy = 76.88 / Train loss = 261.1104810833931\n",
            "Test accuracy = 74.97 / Test loss = 72.125567227602\n",
            "[ Epoch: 19/20 ]\n",
            "Train accuracy = 78.14 / Train loss = 244.93509209156036\n",
            "Test accuracy = 76.01 / Test loss = 69.88289225101471\n"
          ]
        }
      ]
    },
    {
      "cell_type": "code",
      "source": [
        "# visualization\n",
        "plt.plot(without_BN_steps, without_BN_train_losses)\n",
        "plt.title('Train Loss')\n",
        "plt.xlabel('Step')\n",
        "plt.ylabel('Loss')\n",
        "plt.show()\n",
        "\n",
        "plt.plot([i for i in range(len(without_BN_test_accuracies))], without_BN_test_accuracies)\n",
        "plt.title('Test Accuracy')\n",
        "plt.xlabel('Epoch')\n",
        "plt.ylabel('Accuracy')\n",
        "plt.show()\n",
        "\n",
        "plt.plot([i for i in range(len(without_BN_test_losses))], without_BN_test_losses)\n",
        "plt.title('Test Loss')\n",
        "plt.xlabel('Epoch')\n",
        "plt.ylabel('Loss')\n",
        "plt.show()"
      ],
      "metadata": {
        "colab": {
          "base_uri": "https://localhost:8080/",
          "height": 851
        },
        "id": "lBdnvQRkJwHx",
        "outputId": "e283a91e-60ca-444d-8f9e-4b8009732efd"
      },
      "execution_count": null,
      "outputs": [
        {
          "output_type": "display_data",
          "data": {
            "text/plain": [
              "<Figure size 432x288 with 1 Axes>"
            ],
            "image/png": "[encoded data removed]"
          },
          "metadata": {
            "needs_background": "light"
          }
        },
        {
          "output_type": "display_data",
          "data": {
            "text/plain": [
              "<Figure size 432x288 with 1 Axes>"
            ],
            "image/png": "[encoded data removed]"
          },
          "metadata": {
            "needs_background": "light"
          }
        },
        {
          "output_type": "display_data",
          "data": {
            "text/plain": [
              "<Figure size 432x288 with 1 Axes>"
            ],
            "image/png": "[encoded data removed]"
          },
          "metadata": {
            "needs_background": "light"
          }
        }
      ]
    },
    {
      "cell_type": "markdown",
      "source": [
        "### Training with BN"
      ],
      "metadata": {
        "id": "Fw5ZhTtOJ6SR"
      }
    },
    {
      "cell_type": "code",
      "source": [
        "print('Initialize model parameters')\n",
        "net = ResNet18(with_BN=True).cuda()\n",
        "learning_rate = 0.01\n",
        "optimizer = optim.SGD(net.parameters(), lr=learning_rate, momentum=0.9, weight_decay=0.0002)\n",
        "\n",
        "total_params = sum(p.numel() for p in net.parameters() if p.requires_grad)\n",
        "print('Total number of hyper-parameters:', total_params)"
      ],
      "metadata": {
        "colab": {
          "base_uri": "https://localhost:8080/"
        },
        "id": "kD-8wqSJJ-dN",
        "outputId": "8a2bb9d8-510c-4f15-c451-75018b53c1cd"
      },
      "execution_count": null,
      "outputs": [
        {
          "output_type": "stream",
          "name": "stdout",
          "text": [
            "Initialize model parameters\n",
            "Total number of hyper-parameters: 11173962\n"
          ]
        }
      ]
    },
    {
      "cell_type": "code",
      "source": [
        "with_BN_train_accuracies = []\n",
        "with_BN_steps = []\n",
        "with_BN_train_losses = []\n",
        "with_BN_test_accuracies = []\n",
        "with_BN_test_losses = []\n",
        "\n",
        "epochs = 20\n",
        "\n",
        "for epoch in range(0, epochs):\n",
        "    print(f'[ Epoch: {epoch}/{epochs} ]')\n",
        "    train_accuracy, steps, train_losses = train(net, optimizer, epoch, len(with_BN_steps))\n",
        "    with_BN_train_accuracies.append(train_accuracy)\n",
        "    with_BN_steps.extend(steps)\n",
        "    with_BN_train_losses.extend(train_losses)\n",
        "    print(f'Train accuracy = {train_accuracy * 100:.2f} / Train loss = {sum(train_losses)}')\n",
        "\n",
        "    test_accuracy, test_loss = test(net, optimizer, epoch)\n",
        "    with_BN_test_accuracies.append(test_accuracy)\n",
        "    with_BN_test_losses.append(test_loss)\n",
        "    print(f'Test accuracy = {test_accuracy * 100:.2f} / Test loss = {test_loss}')"
      ],
      "metadata": {
        "colab": {
          "base_uri": "https://localhost:8080/"
        },
        "id": "yMsGgH0QMxZO",
        "outputId": "851c53c5-d2c8-4432-de79-a4d436dfc49d"
      },
      "execution_count": null,
      "outputs": [
        {
          "output_type": "stream",
          "name": "stdout",
          "text": [
            "[ Epoch: 0/20 ]\n"
          ]
        },
        {
          "output_type": "stream",
          "name": "stderr",
          "text": [
            "/usr/local/lib/python3.7/dist-packages/torch/utils/data/dataloader.py:560: UserWarning: This DataLoader will create 4 worker processes in total. Our suggested max number of worker in current system is 2, which is smaller than what this DataLoader is going to create. Please be aware that excessive worker creation might get DataLoader running slow or even freeze, lower the worker number to avoid potential slowness/freeze if necessary.\n",
            "  cpuset_checked))\n"
          ]
        },
        {
          "output_type": "stream",
          "name": "stdout",
          "text": [
            "Train accuracy = 47.94 / Train loss = 555.9199312925339\n",
            "Test accuracy = 55.71 / Test loss = 127.07548248767853\n",
            "[ Epoch: 1/20 ]\n",
            "Train accuracy = 67.84 / Train loss = 355.0857649445534\n",
            "Test accuracy = 61.92 / Test loss = 114.59983831644058\n",
            "[ Epoch: 2/20 ]\n",
            "Train accuracy = 75.42 / Train loss = 276.704299390316\n",
            "Test accuracy = 73.59 / Test loss = 78.85306107997894\n",
            "[ Epoch: 3/20 ]\n",
            "Train accuracy = 79.18 / Train loss = 234.78482696413994\n",
            "Test accuracy = 77.26 / Test loss = 68.04629835486412\n",
            "[ Epoch: 4/20 ]\n",
            "Train accuracy = 82.05 / Train loss = 202.9180667102337\n",
            "Test accuracy = 81.31 / Test loss = 57.02159345149994\n",
            "[ Epoch: 5/20 ]\n",
            "Train accuracy = 83.83 / Train loss = 182.42834103107452\n",
            "Test accuracy = 78.36 / Test loss = 63.150590389966965\n",
            "[ Epoch: 6/20 ]\n",
            "Train accuracy = 85.60 / Train loss = 163.26121459901333\n",
            "Test accuracy = 78.80 / Test loss = 65.8374627828598\n",
            "[ Epoch: 7/20 ]\n",
            "Train accuracy = 86.85 / Train loss = 149.01756973564625\n",
            "Test accuracy = 84.39 / Test loss = 47.34655863046646\n",
            "[ Epoch: 8/20 ]\n",
            "Train accuracy = 87.79 / Train loss = 138.40547451376915\n",
            "Test accuracy = 81.34 / Test loss = 55.77160823345184\n",
            "[ Epoch: 9/20 ]\n",
            "Train accuracy = 88.66 / Train loss = 128.15704357624054\n",
            "Test accuracy = 86.47 / Test loss = 41.37689930200577\n",
            "[ Epoch: 10/20 ]\n",
            "Train accuracy = 89.48 / Train loss = 117.94611811637878\n",
            "Test accuracy = 83.73 / Test loss = 53.30390349030495\n",
            "[ Epoch: 11/20 ]\n",
            "Train accuracy = 90.23 / Train loss = 109.81494878977537\n",
            "Test accuracy = 85.50 / Test loss = 44.722979217767715\n",
            "[ Epoch: 12/20 ]\n",
            "Train accuracy = 90.81 / Train loss = 103.92617204785347\n",
            "Test accuracy = 86.59 / Test loss = 44.364278078079224\n",
            "[ Epoch: 13/20 ]\n",
            "Train accuracy = 91.42 / Train loss = 96.30917475372553\n",
            "Test accuracy = 86.92 / Test loss = 41.655055329203606\n",
            "[ Epoch: 14/20 ]\n",
            "Train accuracy = 92.00 / Train loss = 89.30629766732454\n",
            "Test accuracy = 87.56 / Test loss = 39.60300171375275\n",
            "[ Epoch: 15/20 ]\n",
            "Train accuracy = 92.37 / Train loss = 85.33387373387814\n",
            "Test accuracy = 87.72 / Test loss = 37.9792517721653\n",
            "[ Epoch: 16/20 ]\n",
            "Train accuracy = 92.87 / Train loss = 79.91643661260605\n",
            "Test accuracy = 86.57 / Test loss = 42.88299212604761\n",
            "[ Epoch: 17/20 ]\n",
            "Train accuracy = 93.24 / Train loss = 74.72384387999773\n",
            "Test accuracy = 85.86 / Test loss = 47.09476797282696\n",
            "[ Epoch: 18/20 ]\n",
            "Train accuracy = 93.45 / Train loss = 72.30192321911454\n",
            "Test accuracy = 87.11 / Test loss = 42.38319429755211\n",
            "[ Epoch: 19/20 ]\n",
            "Train accuracy = 93.81 / Train loss = 68.61052024737\n",
            "Test accuracy = 87.18 / Test loss = 45.814542695879936\n"
          ]
        }
      ]
    },
    {
      "cell_type": "code",
      "source": [
        "plt.plot(with_BN_steps, with_BN_train_losses)\n",
        "plt.title('Train Loss')\n",
        "plt.xlabel('Step')\n",
        "plt.ylabel('Loss')\n",
        "plt.show()\n",
        "\n",
        "plt.plot([i for i in range(len(with_BN_test_accuracies))], with_BN_test_accuracies)\n",
        "plt.title('Test Accuracy')\n",
        "plt.xlabel('Epoch')\n",
        "plt.ylabel('Accuracy')\n",
        "plt.show()\n",
        "\n",
        "plt.plot([i for i in range(len(with_BN_test_losses))], with_BN_test_losses)\n",
        "plt.title('Test Loss')\n",
        "plt.xlabel('Epoch')\n",
        "plt.ylabel('Loss')\n",
        "plt.show()"
      ],
      "metadata": {
        "colab": {
          "base_uri": "https://localhost:8080/",
          "height": 851
        },
        "id": "0nSAx-OiM2ug",
        "outputId": "7f33a877-852e-4690-adc6-5ad765095563"
      },
      "execution_count": null,
      "outputs": [
        {
          "output_type": "display_data",
          "data": {
            "text/plain": [
              "<Figure size 432x288 with 1 Axes>"
            ],
            "image/png": "[encoded data removed]"
          },
          "metadata": {
            "needs_background": "light"
          }
        },
        {
          "output_type": "display_data",
          "data": {
            "text/plain": [
              "<Figure size 432x288 with 1 Axes>"
            ],
            "image/png": "[encoded data removed]"
          },
          "metadata": {
            "needs_background": "light"
          }
        },
        {
          "output_type": "display_data",
          "data": {
            "text/plain": [
              "<Figure size 432x288 with 1 Axes>"
            ],
            "image/png": "[encoded data removed]"
          },
          "metadata": {
            "needs_background": "light"
          }
        }
      ]
    },
    {
      "cell_type": "markdown",
      "source": [
        "### Comparison"
      ],
      "metadata": {
        "id": "VmbeePpDM9vd"
      }
    },
    {
      "cell_type": "code",
      "source": [
        "plt.plot(without_BN_steps, without_BN_train_losses)\n",
        "plt.plot(with_BN_steps, with_BN_train_losses)\n",
        "plt.title('Train Loss')\n",
        "plt.xlabel('Step')\n",
        "plt.ylabel('Loss')\n",
        "plt.legend(['w/o BN', 'w/ BN'])\n",
        "plt.show()\n",
        "\n",
        "plt.plot([i for i in range(len(without_BN_test_accuracies))], without_BN_test_accuracies)\n",
        "plt.plot([i for i in range(len(with_BN_test_accuracies))], with_BN_test_accuracies)\n",
        "plt.title('Test Accuracy')\n",
        "plt.xlabel('Epoch')\n",
        "plt.ylabel('Accuracy')\n",
        "plt.legend(['w/o BN', 'w/ BN'])\n",
        "plt.show()\n",
        "\n",
        "plt.plot([i for i in range(len(without_BN_test_losses))], without_BN_test_losses)\n",
        "plt.plot([i for i in range(len(with_BN_test_losses))], with_BN_test_losses)\n",
        "plt.title('Test Loss')\n",
        "plt.xlabel('Epoch')\n",
        "plt.ylabel('Loss')\n",
        "plt.legend(['w/o BN', 'w/ BN'])\n",
        "plt.show()"
      ],
      "metadata": {
        "colab": {
          "base_uri": "https://localhost:8080/",
          "height": 851
        },
        "id": "EPuW6YSVM_5w",
        "outputId": "b4f6af0f-4d58-44a1-e9ca-126b57288938"
      },
      "execution_count": null,
      "outputs": [
        {
          "output_type": "display_data",
          "data": {
            "text/plain": [
              "<Figure size 432x288 with 1 Axes>"
            ],
            "image/png": "[encoded data removed]"
          },
          "metadata": {
            "needs_background": "light"
          }
        },
        {
          "output_type": "display_data",
          "data": {
            "text/plain": [
              "<Figure size 432x288 with 1 Axes>"
            ],
            "image/png": "[encoded data removed]"
          },
          "metadata": {
            "needs_background": "light"
          }
        },
        {
          "output_type": "display_data",
          "data": {
            "text/plain": [
              "<Figure size 432x288 with 1 Axes>"
            ],
            "image/png": "[encoded data removed]"
          },
          "metadata": {
            "needs_background": "light"
          }
        }
      ]
    },
    {
      "cell_type": "markdown",
      "source": [
        "## Conclusion\n",
        "* Batch Normalization allows to improve the accuracy with the levle of factor 2-3 times."
      ],
      "metadata": {
        "id": "W_ykZd-cVkR3"
      }
    }
  ]
}