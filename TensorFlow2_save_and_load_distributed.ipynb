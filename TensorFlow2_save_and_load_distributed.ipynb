{
  "cells": [
    {
      "cell_type": "markdown",
      "metadata": {
        "id": "view-in-github",
        "colab_type": "text"
      },
      "source": [
        "<a href=\"https://colab.research.google.com/github/DongheeKang/MachineLearning/blob/master/Tensorflow2_save_and_load_distributed.ipynb\" target=\"_parent\"><img src=\"https://colab.research.google.com/assets/colab-badge.svg\" alt=\"Open In Colab\"/></a>"
      ]
    },
    {
      "cell_type": "markdown",
      "metadata": {
        "id": "89xNCIO5hiCj"
      },
      "source": [
        "# How to save and load a model using a distribution strategy"
      ]
    },
    {
      "cell_type": "markdown",
      "metadata": {
        "id": "A0lG6qgThxAS"
      },
      "source": [
        "## Overview\n",
        "\n",
        "how do I can save and load models in a SavedModel format with `tf.distribute.Strategy` during or after training. \n",
        "\n",
        "  * `tf.keras.Model.save`, `tf.keras.models.load_model`\n",
        "  * `tf.saved_model.save`, `tf.saved_model.load`\n",
        "\n",
        "\n",
        "\n"
      ]
    },
    {
      "cell_type": "code",
      "execution_count": 2,
      "metadata": {
        "id": "RWG5HchAiOrZ"
      },
      "outputs": [],
      "source": [
        "import tensorflow_datasets as tfds\n",
        "\n",
        "import tensorflow as tf\n"
      ]
    },
    {
      "cell_type": "code",
      "execution_count": 3,
      "metadata": {
        "id": "yrYiAf_ziRyw",
        "colab": {
          "base_uri": "https://localhost:8080/"
        },
        "outputId": "cc2398d7-deca-4bf3-d7a2-69560f9efd12"
      },
      "outputs": [
        {
          "output_type": "stream",
          "name": "stdout",
          "text": [
            "WARNING:tensorflow:There are non-GPU devices in `tf.distribute.Strategy`, not using nccl allreduce.\n",
            "INFO:tensorflow:Using MirroredStrategy with devices ('/job:localhost/replica:0/task:0/device:CPU:0',)\n"
          ]
        }
      ],
      "source": [
        "mirrored_strategy = tf.distribute.MirroredStrategy()\n",
        "\n",
        "def get_data():\n",
        "  datasets = tfds.load(name='mnist', as_supervised=True)\n",
        "  mnist_train, mnist_test = datasets['train'], datasets['test']\n",
        "\n",
        "  BUFFER_SIZE = 10000\n",
        "\n",
        "  BATCH_SIZE_PER_REPLICA = 64\n",
        "  BATCH_SIZE = BATCH_SIZE_PER_REPLICA * mirrored_strategy.num_replicas_in_sync\n",
        "\n",
        "  def scale(image, label):\n",
        "    image = tf.cast(image, tf.float32)\n",
        "    image /= 255\n",
        "\n",
        "    return image, label\n",
        "\n",
        "  train_dataset = mnist_train.map(scale).cache().shuffle(BUFFER_SIZE).batch(BATCH_SIZE)\n",
        "  eval_dataset = mnist_test.map(scale).batch(BATCH_SIZE)\n",
        "\n",
        "  return train_dataset, eval_dataset\n",
        "\n",
        "def get_model():\n",
        "  with mirrored_strategy.scope():\n",
        "    model = tf.keras.Sequential([\n",
        "        tf.keras.layers.Conv2D(32, 3, activation='relu', input_shape=(28, 28, 1)),\n",
        "        tf.keras.layers.MaxPooling2D(),\n",
        "        tf.keras.layers.Flatten(),\n",
        "        tf.keras.layers.Dense(64, activation='relu'),\n",
        "        tf.keras.layers.Dense(10)\n",
        "    ])\n",
        "\n",
        "    model.compile(loss=tf.keras.losses.SparseCategoricalCrossentropy(from_logits=True),\n",
        "                  optimizer=tf.keras.optimizers.Adam(),\n",
        "                  metrics=[tf.metrics.SparseCategoricalAccuracy()])\n",
        "    return model"
      ]
    },
    {
      "cell_type": "code",
      "execution_count": 4,
      "metadata": {
        "id": "zmGurbJmS_vN",
        "colab": {
          "base_uri": "https://localhost:8080/",
          "height": 308,
          "referenced_widgets": [
            "ae41f23ad65047289c207139945b4426",
            "8ad46fc80a6c42789e185e06aa3bdb93",
            "f19ccb2e9f3f480d84e9ab8fc641fe8c",
            "e99d38e81a6443688cb68abd78210e8b",
            "bf2e1dafd6054ee5b4fc2546a3935004",
            "4eb8d5fd7af144299a425a7e3aa49252",
            "a1a8f59f06734102a5d1c4b3a36f1f59",
            "43497ff3f243483ebbf506f91d4bbb69",
            "91117a10268f4e3281122a90bffd5c7b",
            "e4d1baa6cf0143f38fcc92c18007211a",
            "b730a5c56ca3472cbc1bdf7451c67c97"
          ]
        },
        "outputId": "63d9e5d9-15c3-4b1a-e131-8587f38408e6"
      },
      "outputs": [
        {
          "output_type": "stream",
          "name": "stdout",
          "text": [
            "\u001b[1mDownloading and preparing dataset mnist/3.0.1 (download: 11.06 MiB, generated: 21.00 MiB, total: 32.06 MiB) to /root/tensorflow_datasets/mnist/3.0.1...\u001b[0m\n"
          ]
        },
        {
          "output_type": "stream",
          "name": "stderr",
          "text": [
            "WARNING:absl:Dataset mnist is hosted on GCS. It will automatically be downloaded to your\n",
            "local data directory. If you'd instead prefer to read directly from our public\n",
            "GCS bucket (recommended if you're running on GCP), you can instead pass\n",
            "`try_gcs=True` to `tfds.load` or set `data_dir=gs://tfds-data/datasets`.\n",
            "\n"
          ]
        },
        {
          "output_type": "display_data",
          "data": {
            "text/plain": [
              "Dl Completed...:   0%|          | 0/4 [00:00<?, ? file/s]"
            ],
            "application/vnd.jupyter.widget-view+json": {
              "version_major": 2,
              "version_minor": 0,
              "model_id": "ae41f23ad65047289c207139945b4426"
            }
          },
          "metadata": {}
        },
        {
          "output_type": "stream",
          "name": "stdout",
          "text": [
            "\n",
            "\u001b[1mDataset mnist downloaded and prepared to /root/tensorflow_datasets/mnist/3.0.1. Subsequent calls will reuse this data.\u001b[0m\n",
            "Epoch 1/2\n",
            "938/938 [==============================] - 45s 42ms/step - loss: 0.2089 - sparse_categorical_accuracy: 0.9382\n",
            "Epoch 2/2\n",
            "938/938 [==============================] - 27s 28ms/step - loss: 0.0667 - sparse_categorical_accuracy: 0.9802\n"
          ]
        },
        {
          "output_type": "execute_result",
          "data": {
            "text/plain": [
              "<keras.callbacks.History at 0x7f242a3de6d0>"
            ]
          },
          "metadata": {},
          "execution_count": 4
        }
      ],
      "source": [
        "model = get_model()\n",
        "train_dataset, eval_dataset = get_data()\n",
        "model.fit(train_dataset, epochs=2)"
      ]
    },
    {
      "cell_type": "markdown",
      "metadata": {
        "id": "L01wjgvRizHS"
      },
      "source": [
        "## Save and load the model\n",
        "\n",
        "Let's now explore the saving/loading APIs. \n",
        "There are two kinds of APIs available:\n",
        "\n",
        "*   High-level (Keras): `Model.save` and `tf.keras.models.load_model`\n",
        "*   Low-level: `tf.saved_model.save` and `tf.saved_model.load`\n"
      ]
    },
    {
      "cell_type": "markdown",
      "metadata": {
        "id": "FX_IF2F1tvFs"
      },
      "source": [
        "### The Keras API"
      ]
    },
    {
      "cell_type": "code",
      "execution_count": 5,
      "metadata": {
        "id": "LYOStjV5knTQ",
        "colab": {
          "base_uri": "https://localhost:8080/"
        },
        "outputId": "8704f7db-6de3-480e-93f2-10847a92a4cc"
      },
      "outputs": [
        {
          "output_type": "stream",
          "name": "stdout",
          "text": [
            "INFO:tensorflow:Assets written to: /tmp/keras_save/assets\n"
          ]
        },
        {
          "output_type": "stream",
          "name": "stderr",
          "text": [
            "INFO:tensorflow:Assets written to: /tmp/keras_save/assets\n"
          ]
        }
      ],
      "source": [
        "keras_model_path = '/tmp/keras_save'\n",
        "model.save(keras_model_path)"
      ]
    },
    {
      "cell_type": "markdown",
      "metadata": {
        "id": "yvQIdQp3zNMp"
      },
      "source": [
        "Restore the model without `tf.distribute.Strategy`:"
      ]
    },
    {
      "cell_type": "code",
      "execution_count": 6,
      "metadata": {
        "id": "WrXAAVtrzRgv",
        "colab": {
          "base_uri": "https://localhost:8080/"
        },
        "outputId": "64d7f5b6-e268-4d7f-ba5c-7193bd916ce9"
      },
      "outputs": [
        {
          "output_type": "stream",
          "name": "stdout",
          "text": [
            "Epoch 1/2\n",
            "938/938 [==============================] - 29s 31ms/step - loss: 0.0483 - sparse_categorical_accuracy: 0.9855\n",
            "Epoch 2/2\n",
            "938/938 [==============================] - 29s 31ms/step - loss: 0.0337 - sparse_categorical_accuracy: 0.9898\n"
          ]
        },
        {
          "output_type": "execute_result",
          "data": {
            "text/plain": [
              "<keras.callbacks.History at 0x7f242ab50890>"
            ]
          },
          "metadata": {},
          "execution_count": 6
        }
      ],
      "source": [
        "restored_keras_model = tf.keras.models.load_model(keras_model_path)\n",
        "restored_keras_model.fit(train_dataset, epochs=2)"
      ]
    },
    {
      "cell_type": "markdown",
      "metadata": {
        "id": "gYAnskzorda-"
      },
      "source": [
        "After restoring the model, you can continue training on it, even without needing to call `Model.compile` again, since it was already compiled before saving. The model is saved in TensorFlow's standard `SavedModel` proto format.\n",
        "\n",
        "Now, restore the model and train it using a `tf.distribute.Strategy`:"
      ]
    },
    {
      "cell_type": "code",
      "execution_count": 7,
      "metadata": {
        "id": "wROPrJaAqBQz",
        "colab": {
          "base_uri": "https://localhost:8080/"
        },
        "outputId": "45649a7d-516d-42d2-c496-03b25daca98c"
      },
      "outputs": [
        {
          "output_type": "stream",
          "name": "stdout",
          "text": [
            "Epoch 1/2\n",
            "938/938 [==============================] - 27s 28ms/step - loss: 0.0478 - sparse_categorical_accuracy: 0.9863\n",
            "Epoch 2/2\n",
            "938/938 [==============================] - 27s 28ms/step - loss: 0.0339 - sparse_categorical_accuracy: 0.9897\n"
          ]
        }
      ],
      "source": [
        "another_strategy = tf.distribute.OneDeviceStrategy('/cpu:0')\n",
        "with another_strategy.scope():\n",
        "  restored_keras_model_ds = tf.keras.models.load_model(keras_model_path)\n",
        "  restored_keras_model_ds.fit(train_dataset, epochs=2)"
      ]
    },
    {
      "cell_type": "markdown",
      "metadata": {
        "id": "PdiiPmL5tQk5"
      },
      "source": [
        "As the `Model.fit` output shows, loading works as expected with `tf.distribute.Strategy`. The strategy used here does not have to be the same strategy used before saving. "
      ]
    },
    {
      "cell_type": "markdown",
      "metadata": {
        "id": "3CrXIbmFt0f6"
      },
      "source": [
        "### The `tf.saved_model` API"
      ]
    },
    {
      "cell_type": "code",
      "execution_count": 9,
      "metadata": {
        "id": "4y6T31APuCqK",
        "colab": {
          "base_uri": "https://localhost:8080/"
        },
        "outputId": "62b465b2-df16-4fd1-8382-09e3a2f882e2"
      },
      "outputs": [
        {
          "output_type": "stream",
          "name": "stdout",
          "text": [
            "INFO:tensorflow:Assets written to: /tmp/tf_save/assets\n"
          ]
        },
        {
          "output_type": "stream",
          "name": "stderr",
          "text": [
            "INFO:tensorflow:Assets written to: /tmp/tf_save/assets\n"
          ]
        }
      ],
      "source": [
        "model = get_model()  # get a fresh model\n",
        "saved_model_path = '/tmp/tf_save'\n",
        "tf.saved_model.save(model, saved_model_path)"
      ]
    },
    {
      "cell_type": "markdown",
      "metadata": {
        "id": "q1QNRYcwuRll"
      },
      "source": [
        "Loading can be done with `tf.saved_model.load`. However, since it is a lower-level API (and hence has a wider range of use cases), it does not return a Keras model. Instead, it returns an object that contain functions that can be used to do inference. For example:"
      ]
    },
    {
      "cell_type": "code",
      "execution_count": 10,
      "metadata": {
        "id": "aaEKqBSPwAuM"
      },
      "outputs": [],
      "source": [
        "DEFAULT_FUNCTION_KEY = 'serving_default'\n",
        "loaded = tf.saved_model.load(saved_model_path)\n",
        "inference_func = loaded.signatures[DEFAULT_FUNCTION_KEY]"
      ]
    },
    {
      "cell_type": "markdown",
      "metadata": {
        "id": "x65l7AaHUZCA"
      },
      "source": [
        "The loaded object may contain multiple functions, each associated with a key. The `\"serving_default\"` key is the default key for the inference function with a saved Keras model. To do inference with this function: "
      ]
    },
    {
      "cell_type": "code",
      "execution_count": 11,
      "metadata": {
        "id": "5Ore5q8-UjW1",
        "colab": {
          "base_uri": "https://localhost:8080/"
        },
        "outputId": "f844a224-741c-4db0-8329-9926ae74fc1f"
      },
      "outputs": [
        {
          "output_type": "stream",
          "name": "stdout",
          "text": [
            "{'dense_3': <tf.Tensor: shape=(64, 10), dtype=float32, numpy=\n",
            "array([[-2.02800646e-01,  6.70271814e-02,  6.90521002e-02,\n",
            "         5.75432032e-02, -4.39634696e-02,  8.99827387e-03,\n",
            "         8.54578465e-02,  2.14327965e-02,  1.82602569e-04,\n",
            "         1.30286179e-02],\n",
            "       [-1.51366323e-01,  2.36753188e-02,  1.81642938e-02,\n",
            "        -1.41145885e-01, -2.01356143e-01, -6.08870909e-02,\n",
            "        -1.80455938e-01, -3.05397213e-02, -5.42015061e-02,\n",
            "        -6.75992668e-02],\n",
            "       [-1.83226258e-01,  2.72723567e-02, -3.34406793e-02,\n",
            "        -3.96496840e-02,  9.36522335e-02, -3.71609330e-02,\n",
            "         1.22122101e-01, -3.55634578e-02, -2.24769711e-01,\n",
            "         8.45894516e-02],\n",
            "       [-1.81401655e-01, -4.09738161e-02,  1.41574349e-02,\n",
            "        -1.11232266e-01, -6.90684281e-03, -2.02334151e-02,\n",
            "         2.01331303e-02, -4.43165489e-02, -6.57890961e-02,\n",
            "         1.50010571e-01],\n",
            "       [-2.44683117e-01,  6.53201491e-02, -1.53596955e-03,\n",
            "        -7.09154271e-03,  3.79599631e-02, -2.30212793e-01,\n",
            "        -3.46426889e-02, -3.65793481e-02, -3.06100361e-02,\n",
            "         1.06146939e-01],\n",
            "       [-1.66546732e-01,  9.84307081e-02,  8.99074320e-03,\n",
            "        -1.11478083e-01, -2.69642845e-02, -7.35346973e-02,\n",
            "         7.22819343e-02,  5.28718391e-03, -1.73269734e-01,\n",
            "        -6.00972995e-02],\n",
            "       [-1.53969988e-01,  8.56144130e-02, -1.80504564e-02,\n",
            "        -1.13624297e-01, -8.68482590e-02, -9.41589326e-02,\n",
            "        -1.06689073e-01, -3.76882814e-02, -8.09978098e-02,\n",
            "        -6.20217547e-02],\n",
            "       [-7.58290216e-02,  2.89810281e-02,  3.88384312e-02,\n",
            "        -5.22666387e-02, -1.52602606e-02, -6.15808517e-02,\n",
            "         1.32223189e-01,  4.02295738e-02, -1.57562122e-01,\n",
            "         2.90280785e-02],\n",
            "       [-1.12520747e-01,  9.82014090e-03,  7.08242580e-02,\n",
            "        -9.50476378e-02, -4.18150388e-02, -1.09551035e-01,\n",
            "        -2.93159354e-02, -1.25615317e-02, -1.60103366e-01,\n",
            "         2.28217039e-02],\n",
            "       [-9.25907046e-02,  8.47643912e-02,  1.71739496e-02,\n",
            "         5.84860630e-02, -2.89230198e-02, -8.74172747e-02,\n",
            "         4.94892895e-02, -5.43512776e-02, -4.91406284e-02,\n",
            "        -2.81511955e-02],\n",
            "       [-2.04792053e-01,  8.23726580e-02,  4.03839312e-02,\n",
            "        -6.36741072e-02, -1.45918299e-02, -1.27609028e-02,\n",
            "         1.06235527e-01, -1.11657783e-01, -1.05516620e-01,\n",
            "        -1.62976868e-02],\n",
            "       [-2.09478348e-01,  8.22498947e-02,  1.55977130e-01,\n",
            "        -9.03006122e-02, -5.91940023e-02, -7.28222504e-02,\n",
            "        -5.45403622e-02,  2.70561595e-02, -1.07559830e-01,\n",
            "        -3.57028693e-02],\n",
            "       [-2.25593820e-01,  1.12397388e-01, -5.08646742e-02,\n",
            "        -4.71246727e-02, -2.43091229e-02, -1.54122770e-01,\n",
            "        -3.48997638e-02, -1.61277279e-02, -5.04084155e-02,\n",
            "         5.26006185e-02],\n",
            "       [-2.34339297e-01,  1.13936707e-01, -3.57901491e-02,\n",
            "        -1.70396436e-02, -1.42637910e-02, -5.96245714e-02,\n",
            "        -5.75320330e-03, -8.67277607e-02, -1.73043720e-02,\n",
            "        -2.97084711e-02],\n",
            "       [-2.43972674e-01,  8.43717977e-02,  4.86148559e-02,\n",
            "        -2.22961940e-02, -2.68247281e-03, -3.06545850e-03,\n",
            "        -4.38305316e-03, -8.21829885e-02, -6.46978617e-02,\n",
            "         4.82796840e-02],\n",
            "       [-2.05458179e-01,  1.22499757e-01,  1.91232376e-02,\n",
            "         1.08313998e-02,  1.35603324e-01, -4.16248515e-02,\n",
            "         6.23098798e-02, -1.41398698e-01, -4.27722968e-02,\n",
            "         2.20487416e-02],\n",
            "       [-2.34658718e-01,  9.52626541e-02,  9.67106372e-02,\n",
            "         6.69285469e-03,  7.81847611e-02, -4.72180024e-02,\n",
            "         1.74234360e-02, -5.72288781e-02, -7.84153640e-02,\n",
            "         7.91990235e-02],\n",
            "       [-2.21565843e-01,  5.66487424e-02,  2.27205586e-02,\n",
            "         1.35493660e-02, -6.54098466e-02, -1.13867290e-01,\n",
            "        -9.51378234e-03,  6.08565062e-02, -1.60610974e-01,\n",
            "        -1.14261560e-01],\n",
            "       [-1.92020372e-01,  4.48166355e-02, -4.95992377e-02,\n",
            "        -1.10311739e-01, -7.59894550e-02, -6.59204498e-02,\n",
            "         2.72929203e-02, -1.79845262e-02, -1.32099465e-01,\n",
            "         2.88505517e-02],\n",
            "       [-1.84567586e-01,  5.34806512e-02,  7.36033469e-02,\n",
            "        -2.09820010e-02,  2.14965902e-02, -4.51413132e-02,\n",
            "         6.95263501e-03, -2.02834960e-02,  3.21934302e-03,\n",
            "         9.01032761e-02],\n",
            "       [-1.17585175e-01,  7.32660964e-02,  3.40811238e-02,\n",
            "        -2.98648812e-02,  5.91403320e-02, -6.77312762e-02,\n",
            "        -2.72904504e-02, -8.21769610e-02, -6.76012486e-02,\n",
            "        -1.20144591e-01],\n",
            "       [-7.52190948e-02,  2.31313589e-03,  4.27760519e-02,\n",
            "         7.25234449e-02,  7.24162385e-02, -4.14781682e-02,\n",
            "         1.57435730e-01, -4.88517049e-04, -1.57975212e-01,\n",
            "        -4.77201343e-02],\n",
            "       [-1.30658180e-01,  1.44612029e-01, -2.10675541e-02,\n",
            "        -7.44582787e-02,  2.96250209e-02, -1.98309362e-01,\n",
            "        -5.75629622e-03,  3.35421786e-02, -5.67121170e-02,\n",
            "         1.76898595e-02],\n",
            "       [-9.58331823e-02,  4.55824658e-02, -6.57788515e-02,\n",
            "        -9.84371603e-02, -1.20006263e-01, -1.61444217e-01,\n",
            "        -2.11751342e-01, -3.32832970e-02,  1.09565130e-03,\n",
            "        -1.52660266e-01],\n",
            "       [-9.47621837e-02, -9.11548436e-02, -7.22230598e-02,\n",
            "         2.46138591e-02, -5.82952723e-02, -7.03101009e-02,\n",
            "        -3.40318009e-02,  2.11160630e-04, -9.53341797e-02,\n",
            "        -5.39315119e-02],\n",
            "       [-1.95140824e-01,  8.72455537e-02,  8.14629793e-02,\n",
            "         3.75630124e-03, -6.30928874e-02, -4.15457860e-02,\n",
            "         1.06342189e-01,  1.41042760e-02, -1.70894265e-01,\n",
            "        -2.66097989e-02],\n",
            "       [-5.37828915e-02, -2.63028424e-02,  1.72350053e-02,\n",
            "        -1.37518421e-02,  4.54215370e-02, -2.45132111e-02,\n",
            "         4.90283519e-02,  3.43949609e-02, -5.83345443e-02,\n",
            "        -2.09800098e-02],\n",
            "       [-8.96953195e-02,  8.30280930e-02, -2.38427985e-03,\n",
            "        -4.52943482e-02,  1.38769550e-02, -2.49905139e-02,\n",
            "         8.16287473e-02,  1.62911545e-02, -1.70455649e-01,\n",
            "        -1.59697190e-01],\n",
            "       [-2.10948691e-01,  3.68945673e-02,  2.22946927e-02,\n",
            "        -6.87558353e-02,  4.62687872e-02, -7.82727376e-02,\n",
            "         3.24513554e-03, -4.43453304e-02, -6.09931834e-02,\n",
            "         6.72576502e-02],\n",
            "       [-2.13447928e-01,  1.05075702e-01, -2.27199402e-02,\n",
            "        -1.28214583e-01, -4.58360128e-02, -6.61477298e-02,\n",
            "        -2.38628797e-02,  4.29836707e-03, -1.25373662e-01,\n",
            "         1.66341625e-02],\n",
            "       [-1.30252317e-01,  3.14618051e-02,  6.14377018e-03,\n",
            "        -1.43542483e-01, -2.75909062e-02, -5.61439954e-02,\n",
            "        -5.73055334e-02, -3.97433043e-02, -2.76028346e-02,\n",
            "         2.49181800e-02],\n",
            "       [-7.53160194e-02,  2.40881890e-02,  2.24206746e-02,\n",
            "         2.73033027e-02, -5.08106612e-02, -1.16927207e-01,\n",
            "         2.42102630e-02,  4.40952219e-02, -2.29846954e-01,\n",
            "        -7.59576866e-03],\n",
            "       [-2.08159462e-01,  1.94645654e-02,  2.71150470e-03,\n",
            "        -6.54926673e-02, -1.61297396e-01, -9.44431722e-02,\n",
            "        -1.14600033e-01, -2.58980356e-02, -5.81851937e-02,\n",
            "        -7.37134665e-02],\n",
            "       [-1.35573596e-01,  9.84179080e-02, -2.33456423e-03,\n",
            "        -3.40314209e-02, -2.75952406e-02, -7.97113031e-02,\n",
            "        -1.30033083e-02, -1.59314908e-02, -3.06046922e-02,\n",
            "        -1.12919949e-01],\n",
            "       [-1.01234950e-01, -1.50856618e-02,  2.55705286e-02,\n",
            "        -5.47328554e-02, -2.25799400e-02, -7.29784071e-02,\n",
            "        -8.71405471e-03,  2.94376053e-02, -1.18982136e-01,\n",
            "        -5.14221638e-02],\n",
            "       [-2.42029592e-01,  5.03624864e-02, -6.05712645e-02,\n",
            "        -3.45161594e-02,  4.24551815e-02, -1.49335146e-01,\n",
            "         4.39054472e-03, -1.02192082e-01, -7.62698576e-02,\n",
            "        -1.35815106e-02],\n",
            "       [-1.32858023e-01,  7.16238022e-02,  9.81491357e-02,\n",
            "         4.59231995e-02,  3.11811287e-02, -5.38421273e-02,\n",
            "         1.38220899e-02, -3.88084687e-02, -9.73929539e-02,\n",
            "        -6.04595728e-02],\n",
            "       [-2.32287914e-01,  9.17901471e-02,  9.59953964e-02,\n",
            "        -5.32013923e-03,  1.06919609e-01, -2.60597933e-02,\n",
            "         2.47861631e-02, -8.53360631e-03, -1.95834283e-02,\n",
            "         1.00290731e-01],\n",
            "       [-1.22343145e-01,  3.67284194e-02,  2.50494201e-03,\n",
            "        -5.66950208e-03, -2.12142561e-02, -3.74997444e-02,\n",
            "         2.26913337e-02,  6.30671754e-02, -9.27442685e-02,\n",
            "        -1.08933765e-02],\n",
            "       [-2.39351556e-01,  1.41746581e-01,  7.81232817e-03,\n",
            "         1.35681983e-02,  2.87681054e-02, -8.84625241e-02,\n",
            "         5.31355701e-02, -1.11568697e-01, -1.03704296e-01,\n",
            "         1.56183969e-02],\n",
            "       [-1.21783480e-01,  4.19910587e-02, -3.70755568e-02,\n",
            "        -8.79678875e-02, -1.46791458e-01, -7.27774575e-02,\n",
            "        -1.08594462e-01,  2.49923076e-02, -8.94828960e-02,\n",
            "        -8.08797032e-02],\n",
            "       [-1.83614135e-01,  1.04229607e-01, -2.01519653e-02,\n",
            "        -6.67625740e-02, -8.32010731e-02,  7.38966931e-03,\n",
            "        -2.52373554e-02, -2.33025234e-02, -2.94927973e-02,\n",
            "        -7.51561224e-02],\n",
            "       [-1.38011038e-01,  6.33024573e-02, -1.03441380e-01,\n",
            "        -7.18580931e-02, -4.94616292e-02, -7.72050843e-02,\n",
            "         4.96405847e-02, -5.57879433e-02, -7.88764730e-02,\n",
            "        -8.34370255e-02],\n",
            "       [-1.49875253e-01,  4.51349244e-02,  3.59267555e-02,\n",
            "         3.77603695e-02,  1.11477278e-01, -1.23480968e-01,\n",
            "         1.05325587e-01,  1.47485901e-02, -8.12263265e-02,\n",
            "         3.56115773e-02],\n",
            "       [-1.81876108e-01,  7.48487338e-02,  1.30459424e-02,\n",
            "         2.51458660e-02,  7.57144690e-02, -1.43787891e-01,\n",
            "        -2.97253276e-03, -7.41134956e-02, -5.35831451e-02,\n",
            "        -6.19084314e-02],\n",
            "       [-1.04959108e-01,  1.16603255e-01,  4.33352478e-02,\n",
            "         7.65492348e-03,  3.44289467e-02, -5.97919114e-02,\n",
            "         2.24025231e-02,  1.57899614e-02, -1.64369661e-02,\n",
            "        -8.92383829e-02],\n",
            "       [-9.24228504e-02,  5.70592545e-02, -1.98668446e-02,\n",
            "        -1.33215040e-02,  1.63521729e-02, -9.94314104e-02,\n",
            "        -5.53161884e-03, -1.03981541e-02, -1.16984569e-01,\n",
            "        -1.52103426e-02],\n",
            "       [-2.13472322e-01,  1.36994973e-01,  3.67891155e-02,\n",
            "        -4.77515496e-02, -4.81503122e-02, -7.83066303e-02,\n",
            "        -5.28349839e-02, -3.25928032e-02, -6.80740327e-02,\n",
            "        -7.47248083e-02],\n",
            "       [-1.38002276e-01,  7.08851814e-02, -7.85103515e-02,\n",
            "        -8.86391550e-02, -2.95307059e-02, -2.27047950e-02,\n",
            "        -2.49987934e-02, -1.91887729e-02,  1.46222971e-02,\n",
            "         3.21572199e-02],\n",
            "       [-1.09123498e-01,  7.11648390e-02, -1.24155125e-02,\n",
            "         3.11287008e-02, -1.33882929e-02, -6.57477826e-02,\n",
            "         7.26446956e-02, -5.71325570e-02, -2.33303905e-02,\n",
            "         5.47334254e-02],\n",
            "       [-1.19017765e-01, -1.62638107e-03,  6.54152222e-03,\n",
            "        -1.18670620e-01, -1.51297763e-01, -1.19101003e-01,\n",
            "        -1.07639246e-01,  1.11870756e-02, -9.38117430e-02,\n",
            "        -1.59040675e-01],\n",
            "       [-1.64654940e-01,  3.51161174e-02, -6.86466619e-02,\n",
            "        -7.74566159e-02, -1.82611849e-02, -1.04348041e-01,\n",
            "        -4.81649637e-02,  7.74511229e-03, -4.85725068e-02,\n",
            "         6.04660809e-02],\n",
            "       [-2.09560275e-01,  1.38719797e-01, -6.10341169e-02,\n",
            "        -6.84890673e-02,  2.73893611e-03, -4.20906246e-02,\n",
            "         6.36471203e-03, -8.43293145e-02, -1.21668361e-01,\n",
            "        -7.91761000e-03],\n",
            "       [-2.06103578e-01,  7.80659690e-02, -2.71016248e-02,\n",
            "        -1.21821433e-01, -1.07261889e-01, -3.92774343e-02,\n",
            "        -7.97930211e-02, -6.59985617e-02, -7.56838396e-02,\n",
            "        -7.84934387e-02],\n",
            "       [-2.14954689e-01,  4.44994830e-02, -6.58512861e-02,\n",
            "        -1.15503639e-01, -7.42150992e-02, -8.56282189e-02,\n",
            "        -7.64530897e-02, -8.18580836e-02, -4.75203730e-02,\n",
            "         3.17995660e-02],\n",
            "       [-1.51345074e-01,  5.99147044e-02, -1.13094345e-01,\n",
            "        -9.02747065e-02, -1.07552558e-01, -9.75037441e-02,\n",
            "         6.61307201e-02, -8.02671015e-02, -9.22445431e-02,\n",
            "        -2.14188337e-01],\n",
            "       [-1.05184481e-01,  6.30082516e-03,  7.63096754e-03,\n",
            "        -4.51731458e-02, -6.40900433e-02,  3.93143930e-02,\n",
            "        -8.28543380e-02, -3.86421122e-02, -1.28364027e-01,\n",
            "         5.60728870e-02],\n",
            "       [-1.87873334e-01,  1.20810270e-01, -2.20258813e-02,\n",
            "        -3.02515961e-02, -6.57373220e-02, -9.29758400e-02,\n",
            "         3.02329343e-02,  2.23946944e-02, -1.25728518e-01,\n",
            "        -5.94362579e-02],\n",
            "       [-1.96736217e-01,  3.27393450e-02,  1.16754130e-01,\n",
            "        -3.09108794e-02, -1.11498432e-02,  1.58268604e-02,\n",
            "         1.31361224e-02, -4.65030037e-02, -1.10512689e-01,\n",
            "         5.16895279e-02],\n",
            "       [-1.25783816e-01,  1.48098422e-02, -7.39921778e-02,\n",
            "        -5.47081307e-02, -1.17827386e-01, -1.12806812e-01,\n",
            "         1.76364668e-02, -1.01099096e-01, -9.11921710e-02,\n",
            "        -2.26818100e-01],\n",
            "       [-1.55849293e-01,  7.41934925e-02, -1.01127110e-01,\n",
            "        -8.13364685e-02,  1.81257799e-02, -8.85981247e-02,\n",
            "         7.70322978e-02, -2.79218294e-02, -8.59724730e-02,\n",
            "        -2.41591446e-02],\n",
            "       [-2.64784008e-01,  1.24844171e-01,  4.89098392e-02,\n",
            "        -8.78988281e-02, -3.85164320e-02, -5.13371229e-02,\n",
            "        -3.13430279e-02, -5.39346747e-02, -6.67100921e-02,\n",
            "        -1.88737698e-02],\n",
            "       [-1.40324324e-01,  6.31404519e-02,  8.00609067e-02,\n",
            "        -6.91562071e-02,  6.81072474e-02,  4.55870666e-02,\n",
            "        -5.63658327e-02, -9.34444144e-02,  4.50506769e-02,\n",
            "         8.06815401e-02],\n",
            "       [-1.80411190e-01,  8.41803774e-02, -8.35187584e-02,\n",
            "        -2.19191927e-02, -6.51334005e-04, -1.73012838e-01,\n",
            "         6.57763481e-02, -5.04257232e-02, -2.06494778e-01,\n",
            "        -9.90892723e-02]], dtype=float32)>}\n"
          ]
        }
      ],
      "source": [
        "predict_dataset = eval_dataset.map(lambda image, label: image)\n",
        "for batch in predict_dataset.take(1):\n",
        "  print(inference_func(batch))"
      ]
    },
    {
      "cell_type": "markdown",
      "metadata": {
        "id": "osB1LY8WwUJZ"
      },
      "source": [
        "load and do inference in a distributed manner:"
      ]
    },
    {
      "cell_type": "code",
      "execution_count": 12,
      "metadata": {
        "id": "iDYvu12zYTmT",
        "colab": {
          "base_uri": "https://localhost:8080/"
        },
        "outputId": "f045cf07-521d-4984-d216-941def33822c"
      },
      "outputs": [
        {
          "output_type": "stream",
          "name": "stdout",
          "text": [
            "WARNING:tensorflow:There are non-GPU devices in `tf.distribute.Strategy`, not using nccl allreduce.\n"
          ]
        },
        {
          "output_type": "stream",
          "name": "stderr",
          "text": [
            "WARNING:tensorflow:There are non-GPU devices in `tf.distribute.Strategy`, not using nccl allreduce.\n"
          ]
        },
        {
          "output_type": "stream",
          "name": "stdout",
          "text": [
            "INFO:tensorflow:Using MirroredStrategy with devices ('/job:localhost/replica:0/task:0/device:CPU:0',)\n"
          ]
        },
        {
          "output_type": "stream",
          "name": "stderr",
          "text": [
            "INFO:tensorflow:Using MirroredStrategy with devices ('/job:localhost/replica:0/task:0/device:CPU:0',)\n"
          ]
        },
        {
          "output_type": "stream",
          "name": "stdout",
          "text": [
            "WARNING:tensorflow:Using MirroredStrategy eagerly has significant overhead currently. We will be working on improving this in the future, but for now please wrap `call_for_each_replica` or `experimental_run` or `run` inside a tf.function to get the best performance.\n"
          ]
        },
        {
          "output_type": "stream",
          "name": "stderr",
          "text": [
            "WARNING:tensorflow:Using MirroredStrategy eagerly has significant overhead currently. We will be working on improving this in the future, but for now please wrap `call_for_each_replica` or `experimental_run` or `run` inside a tf.function to get the best performance.\n"
          ]
        },
        {
          "output_type": "stream",
          "name": "stdout",
          "text": [
            "{'dense_3': <tf.Tensor: shape=(64, 10), dtype=float32, numpy=\n",
            "array([[-2.02800646e-01,  6.70271814e-02,  6.90521002e-02,\n",
            "         5.75432032e-02, -4.39634696e-02,  8.99827387e-03,\n",
            "         8.54578465e-02,  2.14327965e-02,  1.82602569e-04,\n",
            "         1.30286179e-02],\n",
            "       [-1.51366323e-01,  2.36753188e-02,  1.81642938e-02,\n",
            "        -1.41145885e-01, -2.01356143e-01, -6.08870909e-02,\n",
            "        -1.80455938e-01, -3.05397213e-02, -5.42015061e-02,\n",
            "        -6.75992668e-02],\n",
            "       [-1.83226258e-01,  2.72723567e-02, -3.34406793e-02,\n",
            "        -3.96496840e-02,  9.36522335e-02, -3.71609330e-02,\n",
            "         1.22122101e-01, -3.55634578e-02, -2.24769711e-01,\n",
            "         8.45894516e-02],\n",
            "       [-1.81401655e-01, -4.09738161e-02,  1.41574349e-02,\n",
            "        -1.11232266e-01, -6.90684281e-03, -2.02334151e-02,\n",
            "         2.01331303e-02, -4.43165489e-02, -6.57890961e-02,\n",
            "         1.50010571e-01],\n",
            "       [-2.44683117e-01,  6.53201491e-02, -1.53596955e-03,\n",
            "        -7.09154271e-03,  3.79599631e-02, -2.30212793e-01,\n",
            "        -3.46426889e-02, -3.65793481e-02, -3.06100361e-02,\n",
            "         1.06146939e-01],\n",
            "       [-1.66546732e-01,  9.84307081e-02,  8.99074320e-03,\n",
            "        -1.11478083e-01, -2.69642845e-02, -7.35346973e-02,\n",
            "         7.22819343e-02,  5.28718391e-03, -1.73269734e-01,\n",
            "        -6.00972995e-02],\n",
            "       [-1.53969988e-01,  8.56144130e-02, -1.80504564e-02,\n",
            "        -1.13624297e-01, -8.68482590e-02, -9.41589326e-02,\n",
            "        -1.06689073e-01, -3.76882814e-02, -8.09978098e-02,\n",
            "        -6.20217547e-02],\n",
            "       [-7.58290216e-02,  2.89810281e-02,  3.88384312e-02,\n",
            "        -5.22666387e-02, -1.52602606e-02, -6.15808517e-02,\n",
            "         1.32223189e-01,  4.02295738e-02, -1.57562122e-01,\n",
            "         2.90280785e-02],\n",
            "       [-1.12520747e-01,  9.82014090e-03,  7.08242580e-02,\n",
            "        -9.50476378e-02, -4.18150388e-02, -1.09551035e-01,\n",
            "        -2.93159354e-02, -1.25615317e-02, -1.60103366e-01,\n",
            "         2.28217039e-02],\n",
            "       [-9.25907046e-02,  8.47643912e-02,  1.71739496e-02,\n",
            "         5.84860630e-02, -2.89230198e-02, -8.74172747e-02,\n",
            "         4.94892895e-02, -5.43512776e-02, -4.91406284e-02,\n",
            "        -2.81511955e-02],\n",
            "       [-2.04792053e-01,  8.23726580e-02,  4.03839312e-02,\n",
            "        -6.36741072e-02, -1.45918299e-02, -1.27609028e-02,\n",
            "         1.06235527e-01, -1.11657783e-01, -1.05516620e-01,\n",
            "        -1.62976868e-02],\n",
            "       [-2.09478348e-01,  8.22498947e-02,  1.55977130e-01,\n",
            "        -9.03006122e-02, -5.91940023e-02, -7.28222504e-02,\n",
            "        -5.45403622e-02,  2.70561595e-02, -1.07559830e-01,\n",
            "        -3.57028693e-02],\n",
            "       [-2.25593820e-01,  1.12397388e-01, -5.08646742e-02,\n",
            "        -4.71246727e-02, -2.43091229e-02, -1.54122770e-01,\n",
            "        -3.48997638e-02, -1.61277279e-02, -5.04084155e-02,\n",
            "         5.26006185e-02],\n",
            "       [-2.34339297e-01,  1.13936707e-01, -3.57901491e-02,\n",
            "        -1.70396436e-02, -1.42637910e-02, -5.96245714e-02,\n",
            "        -5.75320330e-03, -8.67277607e-02, -1.73043720e-02,\n",
            "        -2.97084711e-02],\n",
            "       [-2.43972674e-01,  8.43717977e-02,  4.86148559e-02,\n",
            "        -2.22961940e-02, -2.68247281e-03, -3.06545850e-03,\n",
            "        -4.38305316e-03, -8.21829885e-02, -6.46978617e-02,\n",
            "         4.82796840e-02],\n",
            "       [-2.05458179e-01,  1.22499757e-01,  1.91232376e-02,\n",
            "         1.08313998e-02,  1.35603324e-01, -4.16248515e-02,\n",
            "         6.23098798e-02, -1.41398698e-01, -4.27722968e-02,\n",
            "         2.20487416e-02],\n",
            "       [-2.34658718e-01,  9.52626541e-02,  9.67106372e-02,\n",
            "         6.69285469e-03,  7.81847611e-02, -4.72180024e-02,\n",
            "         1.74234360e-02, -5.72288781e-02, -7.84153640e-02,\n",
            "         7.91990235e-02],\n",
            "       [-2.21565843e-01,  5.66487424e-02,  2.27205586e-02,\n",
            "         1.35493660e-02, -6.54098466e-02, -1.13867290e-01,\n",
            "        -9.51378234e-03,  6.08565062e-02, -1.60610974e-01,\n",
            "        -1.14261560e-01],\n",
            "       [-1.92020372e-01,  4.48166355e-02, -4.95992377e-02,\n",
            "        -1.10311739e-01, -7.59894550e-02, -6.59204498e-02,\n",
            "         2.72929203e-02, -1.79845262e-02, -1.32099465e-01,\n",
            "         2.88505517e-02],\n",
            "       [-1.84567586e-01,  5.34806512e-02,  7.36033469e-02,\n",
            "        -2.09820010e-02,  2.14965902e-02, -4.51413132e-02,\n",
            "         6.95263501e-03, -2.02834960e-02,  3.21934302e-03,\n",
            "         9.01032761e-02],\n",
            "       [-1.17585175e-01,  7.32660964e-02,  3.40811238e-02,\n",
            "        -2.98648812e-02,  5.91403320e-02, -6.77312762e-02,\n",
            "        -2.72904504e-02, -8.21769610e-02, -6.76012486e-02,\n",
            "        -1.20144591e-01],\n",
            "       [-7.52190948e-02,  2.31313589e-03,  4.27760519e-02,\n",
            "         7.25234449e-02,  7.24162385e-02, -4.14781682e-02,\n",
            "         1.57435730e-01, -4.88517049e-04, -1.57975212e-01,\n",
            "        -4.77201343e-02],\n",
            "       [-1.30658180e-01,  1.44612029e-01, -2.10675541e-02,\n",
            "        -7.44582787e-02,  2.96250209e-02, -1.98309362e-01,\n",
            "        -5.75629622e-03,  3.35421786e-02, -5.67121170e-02,\n",
            "         1.76898595e-02],\n",
            "       [-9.58331823e-02,  4.55824658e-02, -6.57788515e-02,\n",
            "        -9.84371603e-02, -1.20006263e-01, -1.61444217e-01,\n",
            "        -2.11751342e-01, -3.32832970e-02,  1.09565130e-03,\n",
            "        -1.52660266e-01],\n",
            "       [-9.47621837e-02, -9.11548436e-02, -7.22230598e-02,\n",
            "         2.46138591e-02, -5.82952723e-02, -7.03101009e-02,\n",
            "        -3.40318009e-02,  2.11160630e-04, -9.53341797e-02,\n",
            "        -5.39315119e-02],\n",
            "       [-1.95140824e-01,  8.72455537e-02,  8.14629793e-02,\n",
            "         3.75630124e-03, -6.30928874e-02, -4.15457860e-02,\n",
            "         1.06342189e-01,  1.41042760e-02, -1.70894265e-01,\n",
            "        -2.66097989e-02],\n",
            "       [-5.37828915e-02, -2.63028424e-02,  1.72350053e-02,\n",
            "        -1.37518421e-02,  4.54215370e-02, -2.45132111e-02,\n",
            "         4.90283519e-02,  3.43949609e-02, -5.83345443e-02,\n",
            "        -2.09800098e-02],\n",
            "       [-8.96953195e-02,  8.30280930e-02, -2.38427985e-03,\n",
            "        -4.52943482e-02,  1.38769550e-02, -2.49905139e-02,\n",
            "         8.16287473e-02,  1.62911545e-02, -1.70455649e-01,\n",
            "        -1.59697190e-01],\n",
            "       [-2.10948691e-01,  3.68945673e-02,  2.22946927e-02,\n",
            "        -6.87558353e-02,  4.62687872e-02, -7.82727376e-02,\n",
            "         3.24513554e-03, -4.43453304e-02, -6.09931834e-02,\n",
            "         6.72576502e-02],\n",
            "       [-2.13447928e-01,  1.05075702e-01, -2.27199402e-02,\n",
            "        -1.28214583e-01, -4.58360128e-02, -6.61477298e-02,\n",
            "        -2.38628797e-02,  4.29836707e-03, -1.25373662e-01,\n",
            "         1.66341625e-02],\n",
            "       [-1.30252317e-01,  3.14618051e-02,  6.14377018e-03,\n",
            "        -1.43542483e-01, -2.75909062e-02, -5.61439954e-02,\n",
            "        -5.73055334e-02, -3.97433043e-02, -2.76028346e-02,\n",
            "         2.49181800e-02],\n",
            "       [-7.53160194e-02,  2.40881890e-02,  2.24206746e-02,\n",
            "         2.73033027e-02, -5.08106612e-02, -1.16927207e-01,\n",
            "         2.42102630e-02,  4.40952219e-02, -2.29846954e-01,\n",
            "        -7.59576866e-03],\n",
            "       [-2.08159462e-01,  1.94645654e-02,  2.71150470e-03,\n",
            "        -6.54926673e-02, -1.61297396e-01, -9.44431722e-02,\n",
            "        -1.14600033e-01, -2.58980356e-02, -5.81851937e-02,\n",
            "        -7.37134665e-02],\n",
            "       [-1.35573596e-01,  9.84179080e-02, -2.33456423e-03,\n",
            "        -3.40314209e-02, -2.75952406e-02, -7.97113031e-02,\n",
            "        -1.30033083e-02, -1.59314908e-02, -3.06046922e-02,\n",
            "        -1.12919949e-01],\n",
            "       [-1.01234950e-01, -1.50856618e-02,  2.55705286e-02,\n",
            "        -5.47328554e-02, -2.25799400e-02, -7.29784071e-02,\n",
            "        -8.71405471e-03,  2.94376053e-02, -1.18982136e-01,\n",
            "        -5.14221638e-02],\n",
            "       [-2.42029592e-01,  5.03624864e-02, -6.05712645e-02,\n",
            "        -3.45161594e-02,  4.24551815e-02, -1.49335146e-01,\n",
            "         4.39054472e-03, -1.02192082e-01, -7.62698576e-02,\n",
            "        -1.35815106e-02],\n",
            "       [-1.32858023e-01,  7.16238022e-02,  9.81491357e-02,\n",
            "         4.59231995e-02,  3.11811287e-02, -5.38421273e-02,\n",
            "         1.38220899e-02, -3.88084687e-02, -9.73929539e-02,\n",
            "        -6.04595728e-02],\n",
            "       [-2.32287914e-01,  9.17901471e-02,  9.59953964e-02,\n",
            "        -5.32013923e-03,  1.06919609e-01, -2.60597933e-02,\n",
            "         2.47861631e-02, -8.53360631e-03, -1.95834283e-02,\n",
            "         1.00290731e-01],\n",
            "       [-1.22343145e-01,  3.67284194e-02,  2.50494201e-03,\n",
            "        -5.66950208e-03, -2.12142561e-02, -3.74997444e-02,\n",
            "         2.26913337e-02,  6.30671754e-02, -9.27442685e-02,\n",
            "        -1.08933765e-02],\n",
            "       [-2.39351556e-01,  1.41746581e-01,  7.81232817e-03,\n",
            "         1.35681983e-02,  2.87681054e-02, -8.84625241e-02,\n",
            "         5.31355701e-02, -1.11568697e-01, -1.03704296e-01,\n",
            "         1.56183969e-02],\n",
            "       [-1.21783480e-01,  4.19910587e-02, -3.70755568e-02,\n",
            "        -8.79678875e-02, -1.46791458e-01, -7.27774575e-02,\n",
            "        -1.08594462e-01,  2.49923076e-02, -8.94828960e-02,\n",
            "        -8.08797032e-02],\n",
            "       [-1.83614135e-01,  1.04229607e-01, -2.01519653e-02,\n",
            "        -6.67625740e-02, -8.32010731e-02,  7.38966931e-03,\n",
            "        -2.52373554e-02, -2.33025234e-02, -2.94927973e-02,\n",
            "        -7.51561224e-02],\n",
            "       [-1.38011038e-01,  6.33024573e-02, -1.03441380e-01,\n",
            "        -7.18580931e-02, -4.94616292e-02, -7.72050843e-02,\n",
            "         4.96405847e-02, -5.57879433e-02, -7.88764730e-02,\n",
            "        -8.34370255e-02],\n",
            "       [-1.49875253e-01,  4.51349244e-02,  3.59267555e-02,\n",
            "         3.77603695e-02,  1.11477278e-01, -1.23480968e-01,\n",
            "         1.05325587e-01,  1.47485901e-02, -8.12263265e-02,\n",
            "         3.56115773e-02],\n",
            "       [-1.81876108e-01,  7.48487338e-02,  1.30459424e-02,\n",
            "         2.51458660e-02,  7.57144690e-02, -1.43787891e-01,\n",
            "        -2.97253276e-03, -7.41134956e-02, -5.35831451e-02,\n",
            "        -6.19084314e-02],\n",
            "       [-1.04959108e-01,  1.16603255e-01,  4.33352478e-02,\n",
            "         7.65492348e-03,  3.44289467e-02, -5.97919114e-02,\n",
            "         2.24025231e-02,  1.57899614e-02, -1.64369661e-02,\n",
            "        -8.92383829e-02],\n",
            "       [-9.24228504e-02,  5.70592545e-02, -1.98668446e-02,\n",
            "        -1.33215040e-02,  1.63521729e-02, -9.94314104e-02,\n",
            "        -5.53161884e-03, -1.03981541e-02, -1.16984569e-01,\n",
            "        -1.52103426e-02],\n",
            "       [-2.13472322e-01,  1.36994973e-01,  3.67891155e-02,\n",
            "        -4.77515496e-02, -4.81503122e-02, -7.83066303e-02,\n",
            "        -5.28349839e-02, -3.25928032e-02, -6.80740327e-02,\n",
            "        -7.47248083e-02],\n",
            "       [-1.38002276e-01,  7.08851814e-02, -7.85103515e-02,\n",
            "        -8.86391550e-02, -2.95307059e-02, -2.27047950e-02,\n",
            "        -2.49987934e-02, -1.91887729e-02,  1.46222971e-02,\n",
            "         3.21572199e-02],\n",
            "       [-1.09123498e-01,  7.11648390e-02, -1.24155125e-02,\n",
            "         3.11287008e-02, -1.33882929e-02, -6.57477826e-02,\n",
            "         7.26446956e-02, -5.71325570e-02, -2.33303905e-02,\n",
            "         5.47334254e-02],\n",
            "       [-1.19017765e-01, -1.62638107e-03,  6.54152222e-03,\n",
            "        -1.18670620e-01, -1.51297763e-01, -1.19101003e-01,\n",
            "        -1.07639246e-01,  1.11870756e-02, -9.38117430e-02,\n",
            "        -1.59040675e-01],\n",
            "       [-1.64654940e-01,  3.51161174e-02, -6.86466619e-02,\n",
            "        -7.74566159e-02, -1.82611849e-02, -1.04348041e-01,\n",
            "        -4.81649637e-02,  7.74511229e-03, -4.85725068e-02,\n",
            "         6.04660809e-02],\n",
            "       [-2.09560275e-01,  1.38719797e-01, -6.10341169e-02,\n",
            "        -6.84890673e-02,  2.73893611e-03, -4.20906246e-02,\n",
            "         6.36471203e-03, -8.43293145e-02, -1.21668361e-01,\n",
            "        -7.91761000e-03],\n",
            "       [-2.06103578e-01,  7.80659690e-02, -2.71016248e-02,\n",
            "        -1.21821433e-01, -1.07261889e-01, -3.92774343e-02,\n",
            "        -7.97930211e-02, -6.59985617e-02, -7.56838396e-02,\n",
            "        -7.84934387e-02],\n",
            "       [-2.14954689e-01,  4.44994830e-02, -6.58512861e-02,\n",
            "        -1.15503639e-01, -7.42150992e-02, -8.56282189e-02,\n",
            "        -7.64530897e-02, -8.18580836e-02, -4.75203730e-02,\n",
            "         3.17995660e-02],\n",
            "       [-1.51345074e-01,  5.99147044e-02, -1.13094345e-01,\n",
            "        -9.02747065e-02, -1.07552558e-01, -9.75037441e-02,\n",
            "         6.61307201e-02, -8.02671015e-02, -9.22445431e-02,\n",
            "        -2.14188337e-01],\n",
            "       [-1.05184481e-01,  6.30082516e-03,  7.63096754e-03,\n",
            "        -4.51731458e-02, -6.40900433e-02,  3.93143930e-02,\n",
            "        -8.28543380e-02, -3.86421122e-02, -1.28364027e-01,\n",
            "         5.60728870e-02],\n",
            "       [-1.87873334e-01,  1.20810270e-01, -2.20258813e-02,\n",
            "        -3.02515961e-02, -6.57373220e-02, -9.29758400e-02,\n",
            "         3.02329343e-02,  2.23946944e-02, -1.25728518e-01,\n",
            "        -5.94362579e-02],\n",
            "       [-1.96736217e-01,  3.27393450e-02,  1.16754130e-01,\n",
            "        -3.09108794e-02, -1.11498432e-02,  1.58268604e-02,\n",
            "         1.31361224e-02, -4.65030037e-02, -1.10512689e-01,\n",
            "         5.16895279e-02],\n",
            "       [-1.25783816e-01,  1.48098422e-02, -7.39921778e-02,\n",
            "        -5.47081307e-02, -1.17827386e-01, -1.12806812e-01,\n",
            "         1.76364668e-02, -1.01099096e-01, -9.11921710e-02,\n",
            "        -2.26818100e-01],\n",
            "       [-1.55849293e-01,  7.41934925e-02, -1.01127110e-01,\n",
            "        -8.13364685e-02,  1.81257799e-02, -8.85981247e-02,\n",
            "         7.70322978e-02, -2.79218294e-02, -8.59724730e-02,\n",
            "        -2.41591446e-02],\n",
            "       [-2.64784008e-01,  1.24844171e-01,  4.89098392e-02,\n",
            "        -8.78988281e-02, -3.85164320e-02, -5.13371229e-02,\n",
            "        -3.13430279e-02, -5.39346747e-02, -6.67100921e-02,\n",
            "        -1.88737698e-02],\n",
            "       [-1.40324324e-01,  6.31404519e-02,  8.00609067e-02,\n",
            "        -6.91562071e-02,  6.81072474e-02,  4.55870666e-02,\n",
            "        -5.63658327e-02, -9.34444144e-02,  4.50506769e-02,\n",
            "         8.06815401e-02],\n",
            "       [-1.80411190e-01,  8.41803774e-02, -8.35187584e-02,\n",
            "        -2.19191927e-02, -6.51334005e-04, -1.73012838e-01,\n",
            "         6.57763481e-02, -5.04257232e-02, -2.06494778e-01,\n",
            "        -9.90892723e-02]], dtype=float32)>}\n"
          ]
        }
      ],
      "source": [
        "another_strategy = tf.distribute.MirroredStrategy()\n",
        "with another_strategy.scope():\n",
        "  loaded = tf.saved_model.load(saved_model_path)\n",
        "  inference_func = loaded.signatures[DEFAULT_FUNCTION_KEY]\n",
        "\n",
        "  dist_predict_dataset = another_strategy.experimental_distribute_dataset(\n",
        "      predict_dataset)\n",
        "\n",
        "  # Calling the function in a distributed manner\n",
        "  for batch in dist_predict_dataset:\n",
        "    result = another_strategy.run(inference_func, args=(batch,))\n",
        "    print(result)\n",
        "    break"
      ]
    },
    {
      "cell_type": "markdown",
      "metadata": {
        "id": "hWGSukoyw3fF"
      },
      "source": [
        "Calling the restored function is just a forward pass on the saved model (`tf.keras.Model.predict`). \n",
        "\n",
        "How to continue training the loaded function? \n",
        "\n",
        "If I need to embed the loaded function into a bigger model? \n",
        "\n",
        "Answer is wrapping the model into a Keras layer\n",
        "A common practice is to wrap this loaded object into a Keras layer to achieve this. \n",
        "\n",
        "Use tensorflow_hub!"
      ]
    },
    {
      "cell_type": "code",
      "execution_count": 13,
      "metadata": {
        "id": "clfk3hQoyKu6",
        "colab": {
          "base_uri": "https://localhost:8080/"
        },
        "outputId": "ee947c00-955a-4e76-a89b-31055b9488f8"
      },
      "outputs": [
        {
          "output_type": "stream",
          "name": "stdout",
          "text": [
            "WARNING:tensorflow:There are non-GPU devices in `tf.distribute.Strategy`, not using nccl allreduce.\n"
          ]
        },
        {
          "output_type": "stream",
          "name": "stderr",
          "text": [
            "WARNING:tensorflow:There are non-GPU devices in `tf.distribute.Strategy`, not using nccl allreduce.\n"
          ]
        },
        {
          "output_type": "stream",
          "name": "stdout",
          "text": [
            "INFO:tensorflow:Using MirroredStrategy with devices ('/job:localhost/replica:0/task:0/device:CPU:0',)\n"
          ]
        },
        {
          "output_type": "stream",
          "name": "stderr",
          "text": [
            "INFO:tensorflow:Using MirroredStrategy with devices ('/job:localhost/replica:0/task:0/device:CPU:0',)\n"
          ]
        },
        {
          "output_type": "stream",
          "name": "stdout",
          "text": [
            "Epoch 1/2\n",
            "938/938 [==============================] - 30s 30ms/step - loss: 0.1876 - sparse_categorical_accuracy: 0.9465\n",
            "Epoch 2/2\n",
            "938/938 [==============================] - 27s 28ms/step - loss: 0.0634 - sparse_categorical_accuracy: 0.9813\n"
          ]
        }
      ],
      "source": [
        "import tensorflow_hub as hub\n",
        "\n",
        "def build_model(loaded):\n",
        "  x = tf.keras.layers.Input(shape=(28, 28, 1), name='input_x')\n",
        "  # Wrap what's loaded to a KerasLayer\n",
        "  keras_layer = hub.KerasLayer(loaded, trainable=True)(x)\n",
        "  model = tf.keras.Model(x, keras_layer)\n",
        "  return model\n",
        "\n",
        "another_strategy = tf.distribute.MirroredStrategy()\n",
        "with another_strategy.scope():\n",
        "  loaded = tf.saved_model.load(saved_model_path)\n",
        "  model = build_model(loaded)\n",
        "\n",
        "  model.compile(loss=tf.keras.losses.SparseCategoricalCrossentropy(from_logits=True),\n",
        "                optimizer=tf.keras.optimizers.Adam(),\n",
        "                metrics=[tf.metrics.SparseCategoricalAccuracy()])\n",
        "  model.fit(train_dataset, epochs=2)"
      ]
    },
    {
      "cell_type": "markdown",
      "metadata": {
        "id": "Oe1z_OtSJlu2"
      },
      "source": [
        "In the above example, Tensorflow Hub's `hub.KerasLayer` wraps the result loaded back from `tf.saved_model.load` into a Keras layer that is used to build another model. This is very useful for transfer learning. "
      ]
    },
    {
      "cell_type": "markdown",
      "metadata": {
        "id": "KFDOZpK5Wa3W"
      },
      "source": [
        "### Which API should I use?"
      ]
    },
    {
      "cell_type": "markdown",
      "metadata": {
        "id": "GC6GQ9HDLxD6"
      },
      "source": [
        "Keras model -> `tf.keras.Model.save`  \n",
        "not a Keras model -> `tf.saved_model.save`\n",
        "\n",
        "Keras model -> `tf.keras.models.load_model`  \n",
        "not a Keras model -> `tf.saved_model.load`\n",
        "\n"
      ]
    },
    {
      "cell_type": "code",
      "execution_count": 14,
      "metadata": {
        "id": "Ktwg2GwnXE8v",
        "colab": {
          "base_uri": "https://localhost:8080/"
        },
        "outputId": "56df15ce-3b50-4775-b50e-14ce09c39469"
      },
      "outputs": [
        {
          "output_type": "stream",
          "name": "stdout",
          "text": [
            "INFO:tensorflow:Assets written to: /tmp/keras_save/assets\n"
          ]
        },
        {
          "output_type": "stream",
          "name": "stderr",
          "text": [
            "INFO:tensorflow:Assets written to: /tmp/keras_save/assets\n"
          ]
        },
        {
          "output_type": "stream",
          "name": "stdout",
          "text": [
            "WARNING:tensorflow:There are non-GPU devices in `tf.distribute.Strategy`, not using nccl allreduce.\n"
          ]
        },
        {
          "output_type": "stream",
          "name": "stderr",
          "text": [
            "WARNING:tensorflow:There are non-GPU devices in `tf.distribute.Strategy`, not using nccl allreduce.\n"
          ]
        },
        {
          "output_type": "stream",
          "name": "stdout",
          "text": [
            "INFO:tensorflow:Using MirroredStrategy with devices ('/job:localhost/replica:0/task:0/device:CPU:0',)\n"
          ]
        },
        {
          "output_type": "stream",
          "name": "stderr",
          "text": [
            "INFO:tensorflow:Using MirroredStrategy with devices ('/job:localhost/replica:0/task:0/device:CPU:0',)\n"
          ]
        }
      ],
      "source": [
        "model = get_model()\n",
        "\n",
        "# Saving the model using Keras `Model.save`\n",
        "model.save(keras_model_path)\n",
        "\n",
        "another_strategy = tf.distribute.MirroredStrategy()\n",
        "# Loading the model using the lower-level API\n",
        "with another_strategy.scope():\n",
        "  loaded = tf.saved_model.load(keras_model_path)"
      ]
    },
    {
      "cell_type": "markdown",
      "metadata": {
        "id": "0Z7lSj8nZiW5"
      },
      "source": [
        "### Saving/Loading from a local device"
      ]
    },
    {
      "cell_type": "markdown",
      "metadata": {
        "id": "NVAjWcosZodw"
      },
      "source": [
        "When saving and loading from a local I/O device while training on remote devices—for example, when using a Cloud TPU—you must use the option `experimental_io_device` in `tf.saved_model.SaveOptions` and `tf.saved_model.LoadOptions` to set the I/O device to `localhost`. For example:"
      ]
    },
    {
      "cell_type": "code",
      "execution_count": 15,
      "metadata": {
        "id": "jFcuzsI94bNA",
        "colab": {
          "base_uri": "https://localhost:8080/"
        },
        "outputId": "d62dbba6-436f-4c3e-a200-a10a57faeedc"
      },
      "outputs": [
        {
          "output_type": "stream",
          "name": "stdout",
          "text": [
            "INFO:tensorflow:Assets written to: /tmp/tf_save/assets\n"
          ]
        },
        {
          "output_type": "stream",
          "name": "stderr",
          "text": [
            "INFO:tensorflow:Assets written to: /tmp/tf_save/assets\n"
          ]
        },
        {
          "output_type": "stream",
          "name": "stdout",
          "text": [
            "WARNING:tensorflow:There are non-GPU devices in `tf.distribute.Strategy`, not using nccl allreduce.\n"
          ]
        },
        {
          "output_type": "stream",
          "name": "stderr",
          "text": [
            "WARNING:tensorflow:There are non-GPU devices in `tf.distribute.Strategy`, not using nccl allreduce.\n"
          ]
        },
        {
          "output_type": "stream",
          "name": "stdout",
          "text": [
            "INFO:tensorflow:Using MirroredStrategy with devices ('/job:localhost/replica:0/task:0/device:CPU:0',)\n"
          ]
        },
        {
          "output_type": "stream",
          "name": "stderr",
          "text": [
            "INFO:tensorflow:Using MirroredStrategy with devices ('/job:localhost/replica:0/task:0/device:CPU:0',)\n"
          ]
        }
      ],
      "source": [
        "model = get_model()\n",
        "\n",
        "# Saving the model to a path on localhost.\n",
        "saved_model_path = '/tmp/tf_save'\n",
        "save_options = tf.saved_model.SaveOptions(experimental_io_device='/job:localhost')\n",
        "model.save(saved_model_path, options=save_options)\n",
        "\n",
        "# Loading the model from a path on localhost.\n",
        "another_strategy = tf.distribute.MirroredStrategy()\n",
        "with another_strategy.scope():\n",
        "  load_options = tf.saved_model.LoadOptions(experimental_io_device='/job:localhost')\n",
        "  loaded = tf.keras.models.load_model(saved_model_path, options=load_options)"
      ]
    },
    {
      "cell_type": "markdown",
      "metadata": {
        "id": "hJTWOnC9iuA3"
      },
      "source": [
        "### Caveats"
      ]
    },
    {
      "cell_type": "markdown",
      "metadata": {
        "id": "2cCSZrD7VCxe"
      },
      "source": [
        "One special case is when I create Keras models in certain ways, and then save them before training. For example:"
      ]
    },
    {
      "cell_type": "code",
      "execution_count": 16,
      "metadata": {
        "id": "gurSIbDFjOBc",
        "colab": {
          "base_uri": "https://localhost:8080/"
        },
        "outputId": "0befd686-0d5b-471d-d3bd-310c2d0fe50f"
      },
      "outputs": [
        {
          "output_type": "stream",
          "name": "stdout",
          "text": [
            "WARNING:tensorflow:Skipping full serialization of Keras layer <__main__.SubclassedModel object at 0x7f242a208950>, because it is not built.\n"
          ]
        },
        {
          "output_type": "stream",
          "name": "stderr",
          "text": [
            "WARNING:tensorflow:Skipping full serialization of Keras layer <__main__.SubclassedModel object at 0x7f242a208950>, because it is not built.\n"
          ]
        },
        {
          "output_type": "stream",
          "name": "stdout",
          "text": [
            "ValueError:  Model <__main__.SubclassedModel object at 0x7f242a208950> cannot be saved either because the input shape is not available or because the forward pass of the model is not defined.To define a forward pass, please override `Model.call()`. To specify an input shape, either call `build(input_shape)` directly, or call the model on actual data using `Model()`, `Model.fit()`, or `Model.predict()`. If you have a custom training step, please make sure to invoke the forward pass in train step through `Model.__call__`, i.e. `model(inputs)`, as opposed to `model.call()`.\n"
          ]
        }
      ],
      "source": [
        "class SubclassedModel(tf.keras.Model):\n",
        "  \"\"\"Example model defined by subclassing `tf.keras.Model`.\"\"\"\n",
        "\n",
        "  output_name = 'output_layer'\n",
        "\n",
        "  def __init__(self):\n",
        "    super(SubclassedModel, self).__init__()\n",
        "    self._dense_layer = tf.keras.layers.Dense(\n",
        "        5, dtype=tf.dtypes.float32, name=self.output_name)\n",
        "\n",
        "  def call(self, inputs):\n",
        "    return self._dense_layer(inputs)\n",
        "\n",
        "my_model = SubclassedModel()\n",
        "try:\n",
        "  my_model.save(keras_model_path)\n",
        "except ValueError as e:\n",
        "  print(f'{type(e).__name__}: ', *e.args)"
      ]
    },
    {
      "cell_type": "markdown",
      "metadata": {
        "id": "D4qMyXFDSPDO"
      },
      "source": [
        "A SavedModel saves the `tf.types.experimental.ConcreteFunction` objects generated when I trace a `tf.function`. If I get a `ValueError` it's because `Model.save` was not able to find or create a traced `ConcreteFunction`.\n",
        "\n",
        "**Caution:** I shouldn't save a model without at least one `ConcreteFunction`, since the low-level API will otherwise generate a SavedModel with no `ConcreteFunction` signatures "
      ]
    },
    {
      "cell_type": "code",
      "execution_count": 17,
      "metadata": {
        "id": "064SE47mYDj8",
        "colab": {
          "base_uri": "https://localhost:8080/"
        },
        "outputId": "18bbd686-b370-44b6-bae8-a3c7c924a7c3"
      },
      "outputs": [
        {
          "output_type": "stream",
          "name": "stdout",
          "text": [
            "WARNING:tensorflow:Skipping full serialization of Keras layer <__main__.SubclassedModel object at 0x7f242a208950>, because it is not built.\n"
          ]
        },
        {
          "output_type": "stream",
          "name": "stderr",
          "text": [
            "WARNING:tensorflow:Skipping full serialization of Keras layer <__main__.SubclassedModel object at 0x7f242a208950>, because it is not built.\n"
          ]
        },
        {
          "output_type": "stream",
          "name": "stdout",
          "text": [
            "WARNING:tensorflow:Skipping full serialization of Keras layer <keras.layers.core.dense.Dense object at 0x7f242d875b50>, because it is not built.\n"
          ]
        },
        {
          "output_type": "stream",
          "name": "stderr",
          "text": [
            "WARNING:tensorflow:Skipping full serialization of Keras layer <keras.layers.core.dense.Dense object at 0x7f242d875b50>, because it is not built.\n"
          ]
        },
        {
          "output_type": "stream",
          "name": "stdout",
          "text": [
            "INFO:tensorflow:Assets written to: /tmp/tf_save/assets\n"
          ]
        },
        {
          "output_type": "stream",
          "name": "stderr",
          "text": [
            "INFO:tensorflow:Assets written to: /tmp/tf_save/assets\n"
          ]
        },
        {
          "output_type": "execute_result",
          "data": {
            "text/plain": [
              "_SignatureMap({})"
            ]
          },
          "metadata": {},
          "execution_count": 17
        }
      ],
      "source": [
        "tf.saved_model.save(my_model, saved_model_path)\n",
        "x = tf.saved_model.load(saved_model_path)\n",
        "x.signatures"
      ]
    },
    {
      "cell_type": "markdown",
      "metadata": {
        "id": "LRTxlASJX-cY"
      },
      "source": [
        "\n",
        "Usually the model's forward pass—the `call` method—will be traced automatically when the model is called for the first time, often via the Keras `Model.fit` method. A `ConcreteFunction` can also be generated by the Keras [Sequential](https://www.tensorflow.org/guide/keras/sequential_model) and [Functional](https://www.tensorflow.org/guide/keras/functional) APIs, if I set the input shape, for example, by making the first layer either a `tf.keras.layers.InputLayer` or another layer type, and passing it the `input_shape` keyword argument. \n",
        "\n",
        "To verify if model has any traced `ConcreteFunction`s, check if `Model.save_spec` is `None`:"
      ]
    },
    {
      "cell_type": "code",
      "execution_count": 18,
      "metadata": {
        "id": "xAXise4eR0YJ",
        "colab": {
          "base_uri": "https://localhost:8080/"
        },
        "outputId": "d2deed15-9b39-4954-c61e-d80f1caa147f"
      },
      "outputs": [
        {
          "output_type": "stream",
          "name": "stdout",
          "text": [
            "True\n"
          ]
        }
      ],
      "source": [
        "print(my_model.save_spec() is None)"
      ]
    },
    {
      "cell_type": "markdown",
      "metadata": {
        "id": "G2G_FQrWJAO3"
      },
      "source": [
        "Let's use `tf.keras.Model.fit` to train the model, and notice that the `save_spec` gets defined and model saving will work:"
      ]
    },
    {
      "cell_type": "code",
      "execution_count": 19,
      "metadata": {
        "id": "cv5LTi0zDkKS",
        "colab": {
          "base_uri": "https://localhost:8080/"
        },
        "outputId": "d5563bea-0392-403e-b1f6-f31dc23d0bdf"
      },
      "outputs": [
        {
          "output_type": "stream",
          "name": "stdout",
          "text": [
            "Epoch 1/2\n",
            "25/25 [==============================] - 0s 1ms/step - loss: 10.1857\n",
            "Epoch 2/2\n",
            "25/25 [==============================] - 0s 1ms/step - loss: 8.7680\n",
            "False\n",
            "INFO:tensorflow:Assets written to: /tmp/keras_save/assets\n"
          ]
        },
        {
          "output_type": "stream",
          "name": "stderr",
          "text": [
            "INFO:tensorflow:Assets written to: /tmp/keras_save/assets\n"
          ]
        }
      ],
      "source": [
        "BATCH_SIZE_PER_REPLICA = 4\n",
        "BATCH_SIZE = BATCH_SIZE_PER_REPLICA * mirrored_strategy.num_replicas_in_sync\n",
        "\n",
        "dataset_size = 100\n",
        "dataset = tf.data.Dataset.from_tensors(\n",
        "    (tf.range(5, dtype=tf.float32), tf.range(5, dtype=tf.float32))\n",
        "    ).repeat(dataset_size).batch(BATCH_SIZE)\n",
        "\n",
        "my_model.compile(optimizer='adam', loss='mean_squared_error')\n",
        "my_model.fit(dataset, epochs=2)\n",
        "\n",
        "print(my_model.save_spec() is None)\n",
        "my_model.save(keras_model_path)"
      ]
    }
  ],
  "metadata": {
    "colab": {
      "collapsed_sections": [],
      "name": "Tensorflow2_save_and_load_distributed.ipynb",
      "toc_visible": true,
      "provenance": [],
      "include_colab_link": true
    },
    "kernelspec": {
      "display_name": "Python 3",
      "name": "python3"
    },
    "widgets": {
      "application/vnd.jupyter.widget-state+json": {
        "ae41f23ad65047289c207139945b4426": {
          "model_module": "@jupyter-widgets/controls",
          "model_name": "HBoxModel",
          "model_module_version": "1.5.0",
          "state": {
            "_dom_classes": [],
            "_model_module": "@jupyter-widgets/controls",
            "_model_module_version": "1.5.0",
            "_model_name": "HBoxModel",
            "_view_count": null,
            "_view_module": "@jupyter-widgets/controls",
            "_view_module_version": "1.5.0",
            "_view_name": "HBoxView",
            "box_style": "",
            "children": [
              "IPY_MODEL_8ad46fc80a6c42789e185e06aa3bdb93",
              "IPY_MODEL_f19ccb2e9f3f480d84e9ab8fc641fe8c",
              "IPY_MODEL_e99d38e81a6443688cb68abd78210e8b"
            ],
            "layout": "IPY_MODEL_bf2e1dafd6054ee5b4fc2546a3935004"
          }
        },
        "8ad46fc80a6c42789e185e06aa3bdb93": {
          "model_module": "@jupyter-widgets/controls",
          "model_name": "HTMLModel",
          "model_module_version": "1.5.0",
          "state": {
            "_dom_classes": [],
            "_model_module": "@jupyter-widgets/controls",
            "_model_module_version": "1.5.0",
            "_model_name": "HTMLModel",
            "_view_count": null,
            "_view_module": "@jupyter-widgets/controls",
            "_view_module_version": "1.5.0",
            "_view_name": "HTMLView",
            "description": "",
            "description_tooltip": null,
            "layout": "IPY_MODEL_4eb8d5fd7af144299a425a7e3aa49252",
            "placeholder": "​",
            "style": "IPY_MODEL_a1a8f59f06734102a5d1c4b3a36f1f59",
            "value": "Dl Completed...: 100%"
          }
        },
        "f19ccb2e9f3f480d84e9ab8fc641fe8c": {
          "model_module": "@jupyter-widgets/controls",
          "model_name": "FloatProgressModel",
          "model_module_version": "1.5.0",
          "state": {
            "_dom_classes": [],
            "_model_module": "@jupyter-widgets/controls",
            "_model_module_version": "1.5.0",
            "_model_name": "FloatProgressModel",
            "_view_count": null,
            "_view_module": "@jupyter-widgets/controls",
            "_view_module_version": "1.5.0",
            "_view_name": "ProgressView",
            "bar_style": "success",
            "description": "",
            "description_tooltip": null,
            "layout": "IPY_MODEL_43497ff3f243483ebbf506f91d4bbb69",
            "max": 4,
            "min": 0,
            "orientation": "horizontal",
            "style": "IPY_MODEL_91117a10268f4e3281122a90bffd5c7b",
            "value": 4
          }
        },
        "e99d38e81a6443688cb68abd78210e8b": {
          "model_module": "@jupyter-widgets/controls",
          "model_name": "HTMLModel",
          "model_module_version": "1.5.0",
          "state": {
            "_dom_classes": [],
            "_model_module": "@jupyter-widgets/controls",
            "_model_module_version": "1.5.0",
            "_model_name": "HTMLModel",
            "_view_count": null,
            "_view_module": "@jupyter-widgets/controls",
            "_view_module_version": "1.5.0",
            "_view_name": "HTMLView",
            "description": "",
            "description_tooltip": null,
            "layout": "IPY_MODEL_e4d1baa6cf0143f38fcc92c18007211a",
            "placeholder": "​",
            "style": "IPY_MODEL_b730a5c56ca3472cbc1bdf7451c67c97",
            "value": " 4/4 [00:00&lt;00:00,  5.21 file/s]"
          }
        },
        "bf2e1dafd6054ee5b4fc2546a3935004": {
          "model_module": "@jupyter-widgets/base",
          "model_name": "LayoutModel",
          "model_module_version": "1.2.0",
          "state": {
            "_model_module": "@jupyter-widgets/base",
            "_model_module_version": "1.2.0",
            "_model_name": "LayoutModel",
            "_view_count": null,
            "_view_module": "@jupyter-widgets/base",
            "_view_module_version": "1.2.0",
            "_view_name": "LayoutView",
            "align_content": null,
            "align_items": null,
            "align_self": null,
            "border": null,
            "bottom": null,
            "display": null,
            "flex": null,
            "flex_flow": null,
            "grid_area": null,
            "grid_auto_columns": null,
            "grid_auto_flow": null,
            "grid_auto_rows": null,
            "grid_column": null,
            "grid_gap": null,
            "grid_row": null,
            "grid_template_areas": null,
            "grid_template_columns": null,
            "grid_template_rows": null,
            "height": null,
            "justify_content": null,
            "justify_items": null,
            "left": null,
            "margin": null,
            "max_height": null,
            "max_width": null,
            "min_height": null,
            "min_width": null,
            "object_fit": null,
            "object_position": null,
            "order": null,
            "overflow": null,
            "overflow_x": null,
            "overflow_y": null,
            "padding": null,
            "right": null,
            "top": null,
            "visibility": null,
            "width": null
          }
        },
        "4eb8d5fd7af144299a425a7e3aa49252": {
          "model_module": "@jupyter-widgets/base",
          "model_name": "LayoutModel",
          "model_module_version": "1.2.0",
          "state": {
            "_model_module": "@jupyter-widgets/base",
            "_model_module_version": "1.2.0",
            "_model_name": "LayoutModel",
            "_view_count": null,
            "_view_module": "@jupyter-widgets/base",
            "_view_module_version": "1.2.0",
            "_view_name": "LayoutView",
            "align_content": null,
            "align_items": null,
            "align_self": null,
            "border": null,
            "bottom": null,
            "display": null,
            "flex": null,
            "flex_flow": null,
            "grid_area": null,
            "grid_auto_columns": null,
            "grid_auto_flow": null,
            "grid_auto_rows": null,
            "grid_column": null,
            "grid_gap": null,
            "grid_row": null,
            "grid_template_areas": null,
            "grid_template_columns": null,
            "grid_template_rows": null,
            "height": null,
            "justify_content": null,
            "justify_items": null,
            "left": null,
            "margin": null,
            "max_height": null,
            "max_width": null,
            "min_height": null,
            "min_width": null,
            "object_fit": null,
            "object_position": null,
            "order": null,
            "overflow": null,
            "overflow_x": null,
            "overflow_y": null,
            "padding": null,
            "right": null,
            "top": null,
            "visibility": null,
            "width": null
          }
        },
        "a1a8f59f06734102a5d1c4b3a36f1f59": {
          "model_module": "@jupyter-widgets/controls",
          "model_name": "DescriptionStyleModel",
          "model_module_version": "1.5.0",
          "state": {
            "_model_module": "@jupyter-widgets/controls",
            "_model_module_version": "1.5.0",
            "_model_name": "DescriptionStyleModel",
            "_view_count": null,
            "_view_module": "@jupyter-widgets/base",
            "_view_module_version": "1.2.0",
            "_view_name": "StyleView",
            "description_width": ""
          }
        },
        "43497ff3f243483ebbf506f91d4bbb69": {
          "model_module": "@jupyter-widgets/base",
          "model_name": "LayoutModel",
          "model_module_version": "1.2.0",
          "state": {
            "_model_module": "@jupyter-widgets/base",
            "_model_module_version": "1.2.0",
            "_model_name": "LayoutModel",
            "_view_count": null,
            "_view_module": "@jupyter-widgets/base",
            "_view_module_version": "1.2.0",
            "_view_name": "LayoutView",
            "align_content": null,
            "align_items": null,
            "align_self": null,
            "border": null,
            "bottom": null,
            "display": null,
            "flex": null,
            "flex_flow": null,
            "grid_area": null,
            "grid_auto_columns": null,
            "grid_auto_flow": null,
            "grid_auto_rows": null,
            "grid_column": null,
            "grid_gap": null,
            "grid_row": null,
            "grid_template_areas": null,
            "grid_template_columns": null,
            "grid_template_rows": null,
            "height": null,
            "justify_content": null,
            "justify_items": null,
            "left": null,
            "margin": null,
            "max_height": null,
            "max_width": null,
            "min_height": null,
            "min_width": null,
            "object_fit": null,
            "object_position": null,
            "order": null,
            "overflow": null,
            "overflow_x": null,
            "overflow_y": null,
            "padding": null,
            "right": null,
            "top": null,
            "visibility": null,
            "width": null
          }
        },
        "91117a10268f4e3281122a90bffd5c7b": {
          "model_module": "@jupyter-widgets/controls",
          "model_name": "ProgressStyleModel",
          "model_module_version": "1.5.0",
          "state": {
            "_model_module": "@jupyter-widgets/controls",
            "_model_module_version": "1.5.0",
            "_model_name": "ProgressStyleModel",
            "_view_count": null,
            "_view_module": "@jupyter-widgets/base",
            "_view_module_version": "1.2.0",
            "_view_name": "StyleView",
            "bar_color": null,
            "description_width": ""
          }
        },
        "e4d1baa6cf0143f38fcc92c18007211a": {
          "model_module": "@jupyter-widgets/base",
          "model_name": "LayoutModel",
          "model_module_version": "1.2.0",
          "state": {
            "_model_module": "@jupyter-widgets/base",
            "_model_module_version": "1.2.0",
            "_model_name": "LayoutModel",
            "_view_count": null,
            "_view_module": "@jupyter-widgets/base",
            "_view_module_version": "1.2.0",
            "_view_name": "LayoutView",
            "align_content": null,
            "align_items": null,
            "align_self": null,
            "border": null,
            "bottom": null,
            "display": null,
            "flex": null,
            "flex_flow": null,
            "grid_area": null,
            "grid_auto_columns": null,
            "grid_auto_flow": null,
            "grid_auto_rows": null,
            "grid_column": null,
            "grid_gap": null,
            "grid_row": null,
            "grid_template_areas": null,
            "grid_template_columns": null,
            "grid_template_rows": null,
            "height": null,
            "justify_content": null,
            "justify_items": null,
            "left": null,
            "margin": null,
            "max_height": null,
            "max_width": null,
            "min_height": null,
            "min_width": null,
            "object_fit": null,
            "object_position": null,
            "order": null,
            "overflow": null,
            "overflow_x": null,
            "overflow_y": null,
            "padding": null,
            "right": null,
            "top": null,
            "visibility": null,
            "width": null
          }
        },
        "b730a5c56ca3472cbc1bdf7451c67c97": {
          "model_module": "@jupyter-widgets/controls",
          "model_name": "DescriptionStyleModel",
          "model_module_version": "1.5.0",
          "state": {
            "_model_module": "@jupyter-widgets/controls",
            "_model_module_version": "1.5.0",
            "_model_name": "DescriptionStyleModel",
            "_view_count": null,
            "_view_module": "@jupyter-widgets/base",
            "_view_module_version": "1.2.0",
            "_view_name": "StyleView",
            "description_width": ""
          }
        }
      }
    }
  },
  "nbformat": 4,
  "nbformat_minor": 0
}
